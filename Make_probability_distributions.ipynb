{
 "cells": [
  {
   "cell_type": "code",
   "execution_count": null,
   "metadata": {
    "colab": {
     "base_uri": "https://localhost:8080/"
    },
    "id": "l-W96BFjNssu",
    "outputId": "9d88ccc5-d907-424c-9bd5-f5769bf1f7ab"
   },
   "outputs": [],
   "source": [
    "!pip install pandas\n",
    "!pip install matplotlib\n",
    "!pip install hdf5storage\n",
    "!pip install h5py\n",
    "!pip install scipy\n"
   ]
  },
  {
   "cell_type": "code",
   "execution_count": null,
   "metadata": {
    "id": "tpolGCYbNssu"
   },
   "outputs": [],
   "source": [
    "import pandas as pd\n",
    "import numpy as np\n",
    "import matplotlib.pyplot as plt\n",
    "%matplotlib inline\n",
    "import os\n",
    "from hdf5storage import loadmat\n",
    "import h5py\n",
    "from tqdm.notebook import trange, tqdm"
   ]
  },
  {
   "cell_type": "code",
   "execution_count": null,
   "metadata": {
    "id": "fekORMGNNssu"
   },
   "outputs": [],
   "source": [
    "#Data_dir = \n",
    "mat_files_dir = '~/mat_files'"
   ]
  },
  {
   "cell_type": "code",
   "execution_count": null,
   "metadata": {
    "id": "ME7nx1daNssu"
   },
   "outputs": [],
   "source": [
    "chanlocs_columns = ['labels', 'type', 'theta', 'radius', 'X', 'Y', 'Z', 'sph_theta', 'sph_phi', 'sph_radius', 'urchan', 'ref']\n",
    "events_columns = ['latency', 'duration', 'channel', 'bvtime', 'bvmknum', 'type', 'code', 'urevent', 'epoch', 'motionCoherence',\n",
    "                  'motionDirection', 'accuracy', 'confidence', 'RT', 'directionDetected']"
   ]
  },
  {
   "cell_type": "code",
   "execution_count": null,
   "metadata": {
    "id": "UO2d5xPdNssu"
   },
   "outputs": [],
   "source": [
    "patients = os.listdir(mat_files_dir)\n",
    "Motion_data = {}"
   ]
  },
  {
   "cell_type": "code",
   "execution_count": null,
   "metadata": {
    "colab": {
     "base_uri": "https://localhost:8080/"
    },
    "id": "BV6PTd_gNssv",
    "outputId": "69f2d325-974b-4dd1-ea8f-8c6bc56b68ca"
   },
   "outputs": [],
   "source": [
    "eeg = None\n",
    "for patient in patients:\n",
    "    if patient in Motion_data.keys():\n",
    "        print('Patient {} already exists!'.format(patient))\n",
    "        continue\n",
    "    Motion_data[patient] = {'chanlocs':{}, 'events':{}}\n",
    "    patient_mat_file = loadmat(os.path.join(mat_files_dir, patient))\n",
    "    eeg = patient_mat_file['eegdat']\n",
    "    for chanlocs_column in chanlocs_columns:\n",
    "        Motion_data[patient]['chanlocs'][chanlocs_column] = patient_mat_file['chanlocs'][chanlocs_column]\n",
    "    for events_column in events_columns:\n",
    "        #print(events_column)\n",
    "        Motion_data[patient]['events'][events_column] = patient_mat_file['events'][events_column]\n",
    "    Motion_data[patient]['times'] = patient_mat_file['times']\n",
    "    Motion_data[patient]['srate'] = patient_mat_file['srate']\n",
    "    Motion_data[patient]['eegdat'] = patient_mat_file['eegdat']\n",
    "    print(patient_mat_file['srate'])"
   ]
  },
  {
   "cell_type": "markdown",
   "metadata": {
    "id": "phd8n18eNssw"
   },
   "source": [
    "# Number of confidence = 1 and confidence = 0 trials:"
   ]
  },
  {
   "cell_type": "markdown",
   "metadata": {
    "id": "6oyUIwlkNssw"
   },
   "source": [
    "Number of confidence = 1 trial"
   ]
  },
  {
   "cell_type": "code",
   "execution_count": null,
   "metadata": {
    "colab": {
     "base_uri": "https://localhost:8080/"
    },
    "id": "tnT6xYBhNssw",
    "outputId": "cd47bf37-dfc0-4aa5-f25f-c622d3931c6a"
   },
   "outputs": [],
   "source": [
    "lowConf = np.where(Motion_data['MotionEEG_22_clean.mat']['events']['confidence'] == 1)[1]\n",
    "print(len(lowConf))"
   ]
  },
  {
   "cell_type": "markdown",
   "metadata": {
    "id": "zvbR-nmLNssx"
   },
   "source": [
    "Number of confidence = 4 trial"
   ]
  },
  {
   "cell_type": "code",
   "execution_count": null,
   "metadata": {
    "colab": {
     "base_uri": "https://localhost:8080/"
    },
    "id": "6e3U12AdNssx",
    "outputId": "e707bd95-6e3e-4f4e-9559-ed04b7fb20c2"
   },
   "outputs": [],
   "source": [
    "highConf = np.where(Motion_data['MotionEEG_22_clean.mat']['events']['confidence'] == 4)[1]\n",
    "print(len(highConf))"
   ]
  },
  {
   "cell_type": "markdown",
   "metadata": {
    "id": "ZVHQdnkBNssx"
   },
   "source": [
    "# Time Series to HVG Distribution"
   ]
  },
  {
   "cell_type": "code",
   "execution_count": null,
   "metadata": {
    "id": "iaRmFulINssx"
   },
   "outputs": [],
   "source": [
    "# b. DIVIDE & CONQUER HVG\n",
    "# --------------------------\n",
    "def hvg_dc(series,timeLine, left, right, all_visible = None):\n",
    "\n",
    "    if all_visible == None : all_visible = []\n",
    "\n",
    "    node_visible = []\n",
    "\n",
    "    if left < right : # there must be at least two nodes in the time series\n",
    "        k = series[left:right].index(max(series[left:right])) + left\n",
    "        # check if k can see each node of series[left...right]\n",
    "\n",
    "        for i in range(left,right):\n",
    "            if i != k :\n",
    "                a = min(i,k)\n",
    "                b = max(i,k)\n",
    "\n",
    "                ya = series[a]\n",
    "                ta = timeLine[a]\n",
    "                yb = series[b]\n",
    "                tb = timeLine[b]\n",
    "                yc = series[a+1:b]\n",
    "                tc = timeLine[a+1:b]\n",
    "\n",
    "                if all( yc[k] < min(ya,yb) for k in range(len(yc)) ):\n",
    "                    node_visible.append(timeLine[i])\n",
    "                elif all( yc[k] >= max(ya,yb) for k in range(len(yc)) ):\n",
    "                    break\n",
    "\n",
    "        if len(node_visible) > 0 : all_visible.append([timeLine[k], node_visible])\n",
    "\n",
    "        hvg_dc(series,timeLine, left, k, all_visible = all_visible)\n",
    "        hvg_dc(series,timeLine, k+1, right, all_visible = all_visible)\n",
    "\n",
    "    return all_visible"
   ]
  },
  {
   "cell_type": "code",
   "execution_count": null,
   "metadata": {
    "id": "sAtTj_-4Nssx"
   },
   "outputs": [],
   "source": [
    "def create_dist_dc(time_series):\n",
    "    L = len(time_series)\n",
    "    gf = hvg_dc(time_series, timeLine=range(L),left = 0, right = L, all_visible = None)\n",
    "    L_gf = len(gf)\n",
    "    in_deg = [0]*L\n",
    "    out_deg = [0]*L\n",
    "    for i in range(L_gf):\n",
    "        out_deg[gf[i][0]] += len(gf[i][1])\n",
    "        for j in gf[i][1]:\n",
    "            in_deg[j] += 1\n",
    "    \n",
    "    counts = np.array([sum(x) for x in zip(in_deg, out_deg)])\n",
    "    distr = {}\n",
    "    for i in range(len(counts)):\n",
    "        if counts[i] in distr.keys():\n",
    "            distr[counts[i]] += 1\n",
    "        else:\n",
    "            distr[counts[i]] = 1\n",
    "    tmp = {}\n",
    "    for i in range(L):\n",
    "        if i in distr.keys():\n",
    "            tmp[i] = distr[i]\n",
    "        else:\n",
    "            tmp[i] = 0\n",
    "    return np.array(list(tmp.values()))/L"
   ]
  },
  {
   "cell_type": "markdown",
   "metadata": {
    "id": "s7JL9rtWNssx"
   },
   "source": [
    "# Convert confidence files to distributions"
   ]
  },
  {
   "cell_type": "code",
   "execution_count": null,
   "metadata": {
    "colab": {
     "base_uri": "https://localhost:8080/",
     "height": 434,
     "referenced_widgets": [
      "6618c0b1a7734a7d9e4af09f80973301",
      "7c0f26191e674602961c0ed1e053eb19",
      "6ac2978c827e425280903ab6f4a96fb0",
      "3f4b345778de46db9b36bd8d687ef731",
      "f5b84d9c1fdb4d668ec0b8266c407e99",
      "f8eeb41404114c9d881f3a389d799a9b",
      "1623d07a63e1408ba527c329aa0de421",
      "89e38fd9dac242fb966a09f2710173a4",
      "1efb274f81e04eee95d37f79d8dcc365",
      "70bd9dbc6df141fd86f102316d551269",
      "a330c45e8a3e4012ba6ca9cfaf6be50e",
      "b0db686cb33a445980d31996dddaca6d",
      "b9312632a11342b1b7951c33730627c3",
      "0bf9b6ce256a44c5be33090249e6d50f",
      "0f239d3e0359482d920b13ddec825bb6",
      "e30490e3c9ae4e78aec8090cbfd659e9",
      "34433e8dfa1c44d4adb9355cba55aca7",
      "ffba16c913c74705a77ec350bc368ef5",
      "acbd6687fc3f4cd0a2e44f95d0556482",
      "6540440408b44516bcf910eebf1387c9",
      "e405bb4503ca43bc864086cbbf5ec856",
      "a8e3005227f24e0cbe4a001c7fb8e63b",
      "524f188edb86415fa071ff6921f03ecf",
      "297ea1e55d97469fb134e4e835fb313c",
      "63f2f243c5b64faaae2e861919157936",
      "df12a8c64500445b8cbe5ab50e9a4086",
      "165610d076b7411c965136f2afdbc16d",
      "28045b0444f8491aa914edc1b3a21998",
      "93c0450389424a5d8f3fcba472c1be4b",
      "49631f1d953d4412a4f4e9a42ca924d5",
      "0a0a8c8cdbc94274a5f09bd5885d49c6",
      "858a2f239b8b4e0690e07dae98dd6f54"
     ]
    },
    "id": "uc-0VVPNNssy",
    "outputId": "5819154d-88ce-419c-ee4e-8b1fcb589d2c"
   },
   "outputs": [],
   "source": [
    "probs = np.zeros([len(highConf)*63, 2000])\n",
    "count = 0\n",
    "conf = highConf\n",
    "for i in tqdm(conf,desc='sample', leave = False):\n",
    "    for j in tqdm(range(63),desc='channel', leave = False):\n",
    "        probs[count,:] = create_dist_dc(list(Motion_data[patient]['eegdat'][j,:,i]))\n",
    "        count += 1\n"
   ]
  },
  {
   "cell_type": "code",
   "execution_count": null,
   "metadata": {
    "id": "ZI3QflBdklc5"
   },
   "outputs": [],
   "source": [
    "np.save(\"~/high_conf.npy\", probs)"
   ]
  },
  {
   "cell_type": "code",
   "execution_count": null,
   "metadata": {
    "id": "-3KV4XgkNssy"
   },
   "outputs": [],
   "source": [
    "# Sanity Check\n",
    "#atst = create_dist_dc(list(Motion_data[patient]['eegdat'][1,:,1]))\n",
    "#for i in range(len(tst)):\n",
    "#    print(tst[i])"
   ]
  },
  {
   "cell_type": "markdown",
   "metadata": {
    "id": "kGroVt3It3Yh"
   },
   "source": [
    "# Exploratory\n",
    "limit size of distribution"
   ]
  },
  {
   "cell_type": "code",
   "execution_count": null,
   "metadata": {
    "id": "pg09l4e1Nssy"
   },
   "outputs": [],
   "source": [
    "dat = np.load(\"~/high_conf_33.npy\", allow_pickle=True)"
   ]
  },
  {
   "cell_type": "code",
   "execution_count": null,
   "metadata": {
    "id": "qRIYQMUZl7Jh"
   },
   "outputs": [],
   "source": [
    "tmp = np.sum(dat,0)/33"
   ]
  },
  {
   "cell_type": "code",
   "execution_count": null,
   "metadata": {
    "colab": {
     "base_uri": "https://localhost:8080/",
     "height": 282
    },
    "id": "SWtjZZ_AnQQG",
    "outputId": "a85112b6-c8e6-43c7-9d4b-0aa182a9663c"
   },
   "outputs": [],
   "source": [
    "plt.plot(dat[0][0:40])\n",
    "plt.xlabel(\"X axis label\")\n",
    "plt.ylabel(\"Y axis label\")"
   ]
  },
  {
   "cell_type": "code",
   "execution_count": null,
   "metadata": {
    "colab": {
     "base_uri": "https://localhost:8080/",
     "height": 346
    },
    "id": "EjjQmqu4pGIp",
    "outputId": "6d646c4a-cf48-4b4c-d293-61f0c8702362"
   },
   "outputs": [],
   "source": [
    "datlow = np.load(\"~/lowConf.npy\", allow_pickle=True)"
   ]
  },
  {
   "cell_type": "code",
   "execution_count": null,
   "metadata": {
    "id": "RrMXYq_puKso"
   },
   "outputs": [],
   "source": [
    "tmplow = np.sum(datlow,0)/244"
   ]
  },
  {
   "cell_type": "code",
   "execution_count": null,
   "metadata": {
    "colab": {
     "base_uri": "https://localhost:8080/",
     "height": 281
    },
    "id": "-Q7mf6DtuQB5",
    "outputId": "983a72f8-105d-4261-da96-a6223600c9fe"
   },
   "outputs": [],
   "source": [
    "plt.plot(tmplow[0:25])"
   ]
  },
  {
   "cell_type": "markdown",
   "metadata": {
    "id": "jd2hzVj4uTBR"
   },
   "source": [
    "# Create 33 trial subset of low_conf dataset"
   ]
  },
  {
   "cell_type": "code",
   "execution_count": null,
   "metadata": {
    "id": "7IkWCWjOQMEm"
   },
   "outputs": [],
   "source": [
    "import copy"
   ]
  },
  {
   "cell_type": "code",
   "execution_count": null,
   "metadata": {
    "id": "9jbx4-I_Nnyc"
   },
   "outputs": [],
   "source": [
    "dat = np.load(\"~/low_conf_244.npy\", allow_pickle=True)"
   ]
  },
  {
   "cell_type": "code",
   "execution_count": null,
   "metadata": {
    "colab": {
     "base_uri": "https://localhost:8080/"
    },
    "id": "AQdvrwc7WAqm",
    "outputId": "c176ca1e-46dd-496e-9541-ed330a01c8b3"
   },
   "outputs": [],
   "source": [
    "dat.shape"
   ]
  },
  {
   "cell_type": "markdown",
   "metadata": {
    "id": "SF4yHpk6b847"
   },
   "source": [
    "## Find max(k) such that p(k)>0.0 from low_conf\n",
    "Used to shorten length of distribution for ease of computation."
   ]
  },
  {
   "cell_type": "code",
   "execution_count": null,
   "metadata": {
    "id": "f4-QGxDjQudG"
   },
   "outputs": [],
   "source": [
    "tmp = np.sum(dat,0)"
   ]
  },
  {
   "cell_type": "code",
   "execution_count": null,
   "metadata": {
    "colab": {
     "base_uri": "https://localhost:8080/"
    },
    "id": "7wNrTdp8bZYe",
    "outputId": "92a95cc0-05db-471e-d9a3-5490d5a33cd7"
   },
   "outputs": [],
   "source": [
    "tmp.shape"
   ]
  },
  {
   "cell_type": "code",
   "execution_count": null,
   "metadata": {
    "id": "D-jEDdkGWnZZ"
   },
   "outputs": [],
   "source": [
    "j_arr = []\n",
    "for i in range(len(tmp)):\n",
    "    if np.any(tmp[i:] > 0.0):\n",
    "        j_arr.append(i)"
   ]
  },
  {
   "cell_type": "code",
   "execution_count": null,
   "metadata": {
    "colab": {
     "base_uri": "https://localhost:8080/"
    },
    "id": "c9ySz9-rWg8S",
    "outputId": "115d1d70-058b-4276-bb09-63201b2085f6"
   },
   "outputs": [],
   "source": [
    "max(j_arr)"
   ]
  },
  {
   "cell_type": "markdown",
   "metadata": {
    "id": "AHywqgPX0cdn"
   },
   "source": [
    "## Find max(k) such that p(k)>0.0 from high_conf\n",
    "Used to shorten length of distribution for ease of computation."
   ]
  },
  {
   "cell_type": "code",
   "execution_count": null,
   "metadata": {
    "id": "BPAy_0mAhJjT"
   },
   "outputs": [],
   "source": [
    "dat_h = np.load(\"~/high_conf_33.npy\", allow_pickle=True)"
   ]
  },
  {
   "cell_type": "code",
   "execution_count": null,
   "metadata": {
    "id": "f5_nntQwhqBG"
   },
   "outputs": [],
   "source": [
    "tmp = np.sum(dat,0)"
   ]
  },
  {
   "cell_type": "code",
   "execution_count": null,
   "metadata": {
    "colab": {
     "base_uri": "https://localhost:8080/"
    },
    "id": "ohm1iV6mhtCj",
    "outputId": "35eb8e8a-4d69-46b0-cd7f-d86a58f59fa0"
   },
   "outputs": [],
   "source": [
    "j_arr = []\n",
    "for i in range(len(tmp)):\n",
    "    if np.any(tmp[i:] > 0.0):\n",
    "        j_arr.append(i)\n",
    "print(max(j_arr))"
   ]
  },
  {
   "cell_type": "markdown",
   "metadata": {
    "id": "BlJs81ZhfNTd"
   },
   "source": [
    "## Create 244x63x40 low_conf array for subsetting"
   ]
  },
  {
   "cell_type": "code",
   "execution_count": null,
   "metadata": {
    "id": "qUbkXNzZN6_x"
   },
   "outputs": [],
   "source": [
    "dat_subset = np.zeros([244,63,40])"
   ]
  },
  {
   "cell_type": "code",
   "execution_count": null,
   "metadata": {
    "colab": {
     "base_uri": "https://localhost:8080/"
    },
    "id": "DwLpsvjcQqlL",
    "outputId": "bc87f9ca-2dbe-4538-ed01-2fe3a5a21544"
   },
   "outputs": [],
   "source": [
    "dat_subset.shape"
   ]
  },
  {
   "cell_type": "code",
   "execution_count": null,
   "metadata": {
    "id": "MxhX3T1uOX20"
   },
   "outputs": [],
   "source": [
    "for i, idx in enumerate(range(0, 15372,63)):\n",
    "\n",
    "    dat_subset[i,:,:] = copy.deepcopy(dat[idx:idx+63,0:40])\n"
   ]
  },
  {
   "cell_type": "code",
   "execution_count": null,
   "metadata": {
    "colab": {
     "base_uri": "https://localhost:8080/"
    },
    "id": "yo6VswAB3ETK",
    "outputId": "4c5d5f17-b3f0-44e8-c31a-5f0047f73e20"
   },
   "outputs": [],
   "source": [
    "# Sanity Check\n",
    "dat_subset[73,:,:]"
   ]
  },
  {
   "cell_type": "markdown",
   "metadata": {
    "id": "eVmSQIi2iTtT"
   },
   "source": [
    "### Create 33x63x40 to have equal trials in each distribution"
   ]
  },
  {
   "cell_type": "code",
   "execution_count": null,
   "metadata": {
    "id": "rWPNGGuYlNv8"
   },
   "outputs": [],
   "source": [
    "import random\n",
    "random.seed(1)"
   ]
  },
  {
   "cell_type": "code",
   "execution_count": null,
   "metadata": {
    "id": "sEiiao3PlYAq"
   },
   "outputs": [],
   "source": [
    "# Pick 33 random trials\n",
    "random_lc_trial_idx = np.random.choice(np.arange(0,244), 33,replace=False)"
   ]
  },
  {
   "cell_type": "code",
   "execution_count": null,
   "metadata": {
    "colab": {
     "base_uri": "https://localhost:8080/"
    },
    "id": "Dm85FDrwllgb",
    "outputId": "9c1a20d1-9a7d-40a7-8d14-9eec3dcbdbdf"
   },
   "outputs": [],
   "source": [
    "print(\"num trials: \", len(random_lc_trial_idx))\n",
    "print(random_lc_trial_idx)"
   ]
  },
  {
   "cell_type": "code",
   "execution_count": null,
   "metadata": {
    "id": "fyZEglJ8lvEP"
   },
   "outputs": [],
   "source": [
    "low_conf_33_trunc = np.zeros([33,63,40])"
   ]
  },
  {
   "cell_type": "code",
   "execution_count": null,
   "metadata": {
    "colab": {
     "base_uri": "https://localhost:8080/"
    },
    "id": "u3snr1hsl1s9",
    "outputId": "193484dc-7f19-440a-80f1-badefceaecdc"
   },
   "outputs": [],
   "source": [
    "low_conf_33_trunc.shape"
   ]
  },
  {
   "cell_type": "code",
   "execution_count": null,
   "metadata": {
    "colab": {
     "base_uri": "https://localhost:8080/"
    },
    "id": "9JCuFExnl5CW",
    "outputId": "c8919512-62e2-41ca-e524-2a851f5ad639"
   },
   "outputs": [],
   "source": [
    "for i,idx in enumerate(random_lc_trial_idx):\n",
    "    low_conf_33_trunc[i,:,:] = copy.deepcopy(dat_subset[idx,:,:])"
   ]
  },
  {
   "cell_type": "code",
   "execution_count": null,
   "metadata": {
    "colab": {
     "base_uri": "https://localhost:8080/"
    },
    "id": "Kk4xamLxmdfp",
    "outputId": "2150849e-8c2f-4e6f-cd41-c5f43cb55bb4"
   },
   "outputs": [],
   "source": [
    "#sanity check\n",
    "print(low_conf_33_trunc.shape)\n",
    "print(low_conf_33_trunc[12,:,:])\n",
    "print(low_conf_33_trunc[32,:,:])\n",
    "flag = False\n",
    "for i in range(len(low_conf_33_trunc)):\n",
    "    if np.all(low_conf_33_trunc[i,:,:] == 0.0):\n",
    "        flag = True\n",
    "print(\"Any Trials all zero: \", flag)"
   ]
  },
  {
   "cell_type": "code",
   "execution_count": null,
   "metadata": {
    "id": "N2EB8qdci5Cp"
   },
   "outputs": [],
   "source": [
    "np.save(\"~/low_conf_33_kmax=40.npy\", low_conf_33_trunc)"
   ]
  },
  {
   "cell_type": "markdown",
   "metadata": {
    "id": "slEYOGNCBnqB"
   },
   "source": [
    "# Create Truncated distributions for high_conf"
   ]
  },
  {
   "cell_type": "code",
   "execution_count": null,
   "metadata": {
    "colab": {
     "base_uri": "https://localhost:8080/"
    },
    "id": "479z-uXWCXc-",
    "outputId": "6f09d9f3-c321-4dd4-92e7-8e023df6a0c2"
   },
   "outputs": [],
   "source": [
    "dat_h.shape"
   ]
  },
  {
   "cell_type": "code",
   "execution_count": null,
   "metadata": {
    "id": "s52_PG4NCkg8"
   },
   "outputs": [],
   "source": [
    "dat_subset_h = np.zeros([33,63,40])"
   ]
  },
  {
   "cell_type": "code",
   "execution_count": null,
   "metadata": {
    "colab": {
     "base_uri": "https://localhost:8080/"
    },
    "id": "5KGAig5GCkg9",
    "outputId": "021d0b81-3637-4473-fb79-e6b84ce2d359"
   },
   "outputs": [],
   "source": [
    "dat_subset_h.shape"
   ]
  },
  {
   "cell_type": "code",
   "execution_count": null,
   "metadata": {
    "id": "MdioIoQiCkg9"
   },
   "outputs": [],
   "source": [
    "for i, idx in enumerate(range(0, len(dat_h),63)):\n",
    "\n",
    "    dat_subset_h[i,:,:] = copy.deepcopy(dat_h[idx:idx+63,0:40])\n"
   ]
  },
  {
   "cell_type": "code",
   "execution_count": null,
   "metadata": {
    "colab": {
     "base_uri": "https://localhost:8080/"
    },
    "id": "rAvJbR-RDTZE",
    "outputId": "fe93dc69-cae6-447e-aa09-6bc29e0853ef"
   },
   "outputs": [],
   "source": []
  },
  {
   "cell_type": "code",
   "execution_count": null,
   "metadata": {
    "colab": {
     "base_uri": "https://localhost:8080/"
    },
    "id": "e4TlSZvsC3Ew",
    "outputId": "b3bdaba5-2c79-48a2-eb4b-84cec7aad43a"
   },
   "outputs": [],
   "source": [
    "# Sanity Check.\n",
    "print(dat_subset_h.shape)\n",
    "print(dat_subset_h[0,:,:])\n",
    "print(dat_subset_h[12,:,:])\n",
    "print(dat_subset_h[32,:,:])\n",
    "flag = False\n",
    "for i in range(len(dat_subset_h)):\n",
    "    if np.all(dat_subset_h[i,:,:] == 0.0):\n",
    "        flag = True\n",
    "print(\"Any Trials all zero: \", flag)"
   ]
  },
  {
   "cell_type": "code",
   "execution_count": null,
   "metadata": {
    "id": "CuauJodlC6ew"
   },
   "outputs": [],
   "source": [
    "np.save(\"~/hi_conf_33_kmax=40.npy\", dat_subset_h)"
   ]
  }
 ],
 "metadata": {
  "colab": {
   "collapsed_sections": [],
   "name": "Make_probability_distributions.ipynb",
   "provenance": [],
   "toc_visible": true
  },
  "kernelspec": {
   "display_name": "Python 3",
   "language": "python",
   "name": "python3"
  },
  "language_info": {
   "codemirror_mode": {
    "name": "ipython",
    "version": 3
   },
   "file_extension": ".py",
   "mimetype": "text/x-python",
   "name": "python",
   "nbconvert_exporter": "python",
   "pygments_lexer": "ipython3",
   "version": "3.8.3"
  },
  "widgets": {
   "application/vnd.jupyter.widget-state+json": {
    "0a0a8c8cdbc94274a5f09bd5885d49c6": {
     "model_module": "@jupyter-widgets/controls",
     "model_name": "DescriptionStyleModel",
     "state": {
      "_model_module": "@jupyter-widgets/controls",
      "_model_module_version": "1.5.0",
      "_model_name": "DescriptionStyleModel",
      "_view_count": null,
      "_view_module": "@jupyter-widgets/base",
      "_view_module_version": "1.2.0",
      "_view_name": "StyleView",
      "description_width": ""
     }
    },
    "0bf9b6ce256a44c5be33090249e6d50f": {
     "model_module": "@jupyter-widgets/base",
     "model_name": "LayoutModel",
     "state": {
      "_model_module": "@jupyter-widgets/base",
      "_model_module_version": "1.2.0",
      "_model_name": "LayoutModel",
      "_view_count": null,
      "_view_module": "@jupyter-widgets/base",
      "_view_module_version": "1.2.0",
      "_view_name": "LayoutView",
      "align_content": null,
      "align_items": null,
      "align_self": null,
      "border": null,
      "bottom": null,
      "display": null,
      "flex": null,
      "flex_flow": null,
      "grid_area": null,
      "grid_auto_columns": null,
      "grid_auto_flow": null,
      "grid_auto_rows": null,
      "grid_column": null,
      "grid_gap": null,
      "grid_row": null,
      "grid_template_areas": null,
      "grid_template_columns": null,
      "grid_template_rows": null,
      "height": null,
      "justify_content": null,
      "justify_items": null,
      "left": null,
      "margin": null,
      "max_height": null,
      "max_width": null,
      "min_height": null,
      "min_width": null,
      "object_fit": null,
      "object_position": null,
      "order": null,
      "overflow": null,
      "overflow_x": null,
      "overflow_y": null,
      "padding": null,
      "right": null,
      "top": null,
      "visibility": null,
      "width": null
     }
    },
    "0f239d3e0359482d920b13ddec825bb6": {
     "model_module": "@jupyter-widgets/controls",
     "model_name": "DescriptionStyleModel",
     "state": {
      "_model_module": "@jupyter-widgets/controls",
      "_model_module_version": "1.5.0",
      "_model_name": "DescriptionStyleModel",
      "_view_count": null,
      "_view_module": "@jupyter-widgets/base",
      "_view_module_version": "1.2.0",
      "_view_name": "StyleView",
      "description_width": ""
     }
    },
    "1623d07a63e1408ba527c329aa0de421": {
     "model_module": "@jupyter-widgets/controls",
     "model_name": "DescriptionStyleModel",
     "state": {
      "_model_module": "@jupyter-widgets/controls",
      "_model_module_version": "1.5.0",
      "_model_name": "DescriptionStyleModel",
      "_view_count": null,
      "_view_module": "@jupyter-widgets/base",
      "_view_module_version": "1.2.0",
      "_view_name": "StyleView",
      "description_width": ""
     }
    },
    "165610d076b7411c965136f2afdbc16d": {
     "model_module": "@jupyter-widgets/controls",
     "model_name": "FloatProgressModel",
     "state": {
      "_dom_classes": [],
      "_model_module": "@jupyter-widgets/controls",
      "_model_module_version": "1.5.0",
      "_model_name": "FloatProgressModel",
      "_view_count": null,
      "_view_module": "@jupyter-widgets/controls",
      "_view_module_version": "1.5.0",
      "_view_name": "ProgressView",
      "bar_style": "danger",
      "description": "channel:  27%",
      "description_tooltip": null,
      "layout": "IPY_MODEL_49631f1d953d4412a4f4e9a42ca924d5",
      "max": 63,
      "min": 0,
      "orientation": "horizontal",
      "style": "IPY_MODEL_93c0450389424a5d8f3fcba472c1be4b",
      "value": 17
     }
    },
    "1efb274f81e04eee95d37f79d8dcc365": {
     "model_module": "@jupyter-widgets/controls",
     "model_name": "HBoxModel",
     "state": {
      "_dom_classes": [],
      "_model_module": "@jupyter-widgets/controls",
      "_model_module_version": "1.5.0",
      "_model_name": "HBoxModel",
      "_view_count": null,
      "_view_module": "@jupyter-widgets/controls",
      "_view_module_version": "1.5.0",
      "_view_name": "HBoxView",
      "box_style": "",
      "children": [
       "IPY_MODEL_a330c45e8a3e4012ba6ca9cfaf6be50e",
       "IPY_MODEL_b0db686cb33a445980d31996dddaca6d"
      ],
      "layout": "IPY_MODEL_70bd9dbc6df141fd86f102316d551269"
     }
    },
    "28045b0444f8491aa914edc1b3a21998": {
     "model_module": "@jupyter-widgets/controls",
     "model_name": "HTMLModel",
     "state": {
      "_dom_classes": [],
      "_model_module": "@jupyter-widgets/controls",
      "_model_module_version": "1.5.0",
      "_model_name": "HTMLModel",
      "_view_count": null,
      "_view_module": "@jupyter-widgets/controls",
      "_view_module_version": "1.5.0",
      "_view_name": "HTMLView",
      "description": "",
      "description_tooltip": null,
      "layout": "IPY_MODEL_858a2f239b8b4e0690e07dae98dd6f54",
      "placeholder": "​",
      "style": "IPY_MODEL_0a0a8c8cdbc94274a5f09bd5885d49c6",
      "value": " 17/63 [00:03&lt;00:09,  4.72it/s]"
     }
    },
    "297ea1e55d97469fb134e4e835fb313c": {
     "model_module": "@jupyter-widgets/base",
     "model_name": "LayoutModel",
     "state": {
      "_model_module": "@jupyter-widgets/base",
      "_model_module_version": "1.2.0",
      "_model_name": "LayoutModel",
      "_view_count": null,
      "_view_module": "@jupyter-widgets/base",
      "_view_module_version": "1.2.0",
      "_view_name": "LayoutView",
      "align_content": null,
      "align_items": null,
      "align_self": null,
      "border": null,
      "bottom": null,
      "display": null,
      "flex": null,
      "flex_flow": null,
      "grid_area": null,
      "grid_auto_columns": null,
      "grid_auto_flow": null,
      "grid_auto_rows": null,
      "grid_column": null,
      "grid_gap": null,
      "grid_row": null,
      "grid_template_areas": null,
      "grid_template_columns": null,
      "grid_template_rows": null,
      "height": null,
      "justify_content": null,
      "justify_items": null,
      "left": null,
      "margin": null,
      "max_height": null,
      "max_width": null,
      "min_height": null,
      "min_width": null,
      "object_fit": null,
      "object_position": null,
      "order": null,
      "overflow": null,
      "overflow_x": null,
      "overflow_y": null,
      "padding": null,
      "right": null,
      "top": null,
      "visibility": null,
      "width": null
     }
    },
    "34433e8dfa1c44d4adb9355cba55aca7": {
     "model_module": "@jupyter-widgets/controls",
     "model_name": "HBoxModel",
     "state": {
      "_dom_classes": [],
      "_model_module": "@jupyter-widgets/controls",
      "_model_module_version": "1.5.0",
      "_model_name": "HBoxModel",
      "_view_count": null,
      "_view_module": "@jupyter-widgets/controls",
      "_view_module_version": "1.5.0",
      "_view_name": "HBoxView",
      "box_style": "",
      "children": [
       "IPY_MODEL_acbd6687fc3f4cd0a2e44f95d0556482",
       "IPY_MODEL_6540440408b44516bcf910eebf1387c9"
      ],
      "layout": "IPY_MODEL_ffba16c913c74705a77ec350bc368ef5"
     }
    },
    "3f4b345778de46db9b36bd8d687ef731": {
     "model_module": "@jupyter-widgets/controls",
     "model_name": "HTMLModel",
     "state": {
      "_dom_classes": [],
      "_model_module": "@jupyter-widgets/controls",
      "_model_module_version": "1.5.0",
      "_model_name": "HTMLModel",
      "_view_count": null,
      "_view_module": "@jupyter-widgets/controls",
      "_view_module_version": "1.5.0",
      "_view_name": "HTMLView",
      "description": "",
      "description_tooltip": null,
      "layout": "IPY_MODEL_89e38fd9dac242fb966a09f2710173a4",
      "placeholder": "​",
      "style": "IPY_MODEL_1623d07a63e1408ba527c329aa0de421",
      "value": " 2/33 [00:31&lt;07:10, 13.89s/it]"
     }
    },
    "49631f1d953d4412a4f4e9a42ca924d5": {
     "model_module": "@jupyter-widgets/base",
     "model_name": "LayoutModel",
     "state": {
      "_model_module": "@jupyter-widgets/base",
      "_model_module_version": "1.2.0",
      "_model_name": "LayoutModel",
      "_view_count": null,
      "_view_module": "@jupyter-widgets/base",
      "_view_module_version": "1.2.0",
      "_view_name": "LayoutView",
      "align_content": null,
      "align_items": null,
      "align_self": null,
      "border": null,
      "bottom": null,
      "display": null,
      "flex": null,
      "flex_flow": null,
      "grid_area": null,
      "grid_auto_columns": null,
      "grid_auto_flow": null,
      "grid_auto_rows": null,
      "grid_column": null,
      "grid_gap": null,
      "grid_row": null,
      "grid_template_areas": null,
      "grid_template_columns": null,
      "grid_template_rows": null,
      "height": null,
      "justify_content": null,
      "justify_items": null,
      "left": null,
      "margin": null,
      "max_height": null,
      "max_width": null,
      "min_height": null,
      "min_width": null,
      "object_fit": null,
      "object_position": null,
      "order": null,
      "overflow": null,
      "overflow_x": null,
      "overflow_y": null,
      "padding": null,
      "right": null,
      "top": null,
      "visibility": null,
      "width": null
     }
    },
    "524f188edb86415fa071ff6921f03ecf": {
     "model_module": "@jupyter-widgets/controls",
     "model_name": "DescriptionStyleModel",
     "state": {
      "_model_module": "@jupyter-widgets/controls",
      "_model_module_version": "1.5.0",
      "_model_name": "DescriptionStyleModel",
      "_view_count": null,
      "_view_module": "@jupyter-widgets/base",
      "_view_module_version": "1.2.0",
      "_view_name": "StyleView",
      "description_width": ""
     }
    },
    "63f2f243c5b64faaae2e861919157936": {
     "model_module": "@jupyter-widgets/controls",
     "model_name": "HBoxModel",
     "state": {
      "_dom_classes": [],
      "_model_module": "@jupyter-widgets/controls",
      "_model_module_version": "1.5.0",
      "_model_name": "HBoxModel",
      "_view_count": null,
      "_view_module": "@jupyter-widgets/controls",
      "_view_module_version": "1.5.0",
      "_view_name": "HBoxView",
      "box_style": "",
      "children": [
       "IPY_MODEL_165610d076b7411c965136f2afdbc16d",
       "IPY_MODEL_28045b0444f8491aa914edc1b3a21998"
      ],
      "layout": "IPY_MODEL_df12a8c64500445b8cbe5ab50e9a4086"
     }
    },
    "6540440408b44516bcf910eebf1387c9": {
     "model_module": "@jupyter-widgets/controls",
     "model_name": "HTMLModel",
     "state": {
      "_dom_classes": [],
      "_model_module": "@jupyter-widgets/controls",
      "_model_module_version": "1.5.0",
      "_model_name": "HTMLModel",
      "_view_count": null,
      "_view_module": "@jupyter-widgets/controls",
      "_view_module_version": "1.5.0",
      "_view_name": "HTMLView",
      "description": "",
      "description_tooltip": null,
      "layout": "IPY_MODEL_297ea1e55d97469fb134e4e835fb313c",
      "placeholder": "​",
      "style": "IPY_MODEL_524f188edb86415fa071ff6921f03ecf",
      "value": " 63/63 [00:14&lt;00:00,  4.56it/s]"
     }
    },
    "6618c0b1a7734a7d9e4af09f80973301": {
     "model_module": "@jupyter-widgets/controls",
     "model_name": "HBoxModel",
     "state": {
      "_dom_classes": [],
      "_model_module": "@jupyter-widgets/controls",
      "_model_module_version": "1.5.0",
      "_model_name": "HBoxModel",
      "_view_count": null,
      "_view_module": "@jupyter-widgets/controls",
      "_view_module_version": "1.5.0",
      "_view_name": "HBoxView",
      "box_style": "",
      "children": [
       "IPY_MODEL_6ac2978c827e425280903ab6f4a96fb0",
       "IPY_MODEL_3f4b345778de46db9b36bd8d687ef731"
      ],
      "layout": "IPY_MODEL_7c0f26191e674602961c0ed1e053eb19"
     }
    },
    "6ac2978c827e425280903ab6f4a96fb0": {
     "model_module": "@jupyter-widgets/controls",
     "model_name": "FloatProgressModel",
     "state": {
      "_dom_classes": [],
      "_model_module": "@jupyter-widgets/controls",
      "_model_module_version": "1.5.0",
      "_model_name": "FloatProgressModel",
      "_view_count": null,
      "_view_module": "@jupyter-widgets/controls",
      "_view_module_version": "1.5.0",
      "_view_name": "ProgressView",
      "bar_style": "danger",
      "description": "sample:   6%",
      "description_tooltip": null,
      "layout": "IPY_MODEL_f8eeb41404114c9d881f3a389d799a9b",
      "max": 33,
      "min": 0,
      "orientation": "horizontal",
      "style": "IPY_MODEL_f5b84d9c1fdb4d668ec0b8266c407e99",
      "value": 2
     }
    },
    "70bd9dbc6df141fd86f102316d551269": {
     "model_module": "@jupyter-widgets/base",
     "model_name": "LayoutModel",
     "state": {
      "_model_module": "@jupyter-widgets/base",
      "_model_module_version": "1.2.0",
      "_model_name": "LayoutModel",
      "_view_count": null,
      "_view_module": "@jupyter-widgets/base",
      "_view_module_version": "1.2.0",
      "_view_name": "LayoutView",
      "align_content": null,
      "align_items": null,
      "align_self": null,
      "border": null,
      "bottom": null,
      "display": null,
      "flex": null,
      "flex_flow": null,
      "grid_area": null,
      "grid_auto_columns": null,
      "grid_auto_flow": null,
      "grid_auto_rows": null,
      "grid_column": null,
      "grid_gap": null,
      "grid_row": null,
      "grid_template_areas": null,
      "grid_template_columns": null,
      "grid_template_rows": null,
      "height": null,
      "justify_content": null,
      "justify_items": null,
      "left": null,
      "margin": null,
      "max_height": null,
      "max_width": null,
      "min_height": null,
      "min_width": null,
      "object_fit": null,
      "object_position": null,
      "order": null,
      "overflow": null,
      "overflow_x": null,
      "overflow_y": null,
      "padding": null,
      "right": null,
      "top": null,
      "visibility": null,
      "width": null
     }
    },
    "7c0f26191e674602961c0ed1e053eb19": {
     "model_module": "@jupyter-widgets/base",
     "model_name": "LayoutModel",
     "state": {
      "_model_module": "@jupyter-widgets/base",
      "_model_module_version": "1.2.0",
      "_model_name": "LayoutModel",
      "_view_count": null,
      "_view_module": "@jupyter-widgets/base",
      "_view_module_version": "1.2.0",
      "_view_name": "LayoutView",
      "align_content": null,
      "align_items": null,
      "align_self": null,
      "border": null,
      "bottom": null,
      "display": null,
      "flex": null,
      "flex_flow": null,
      "grid_area": null,
      "grid_auto_columns": null,
      "grid_auto_flow": null,
      "grid_auto_rows": null,
      "grid_column": null,
      "grid_gap": null,
      "grid_row": null,
      "grid_template_areas": null,
      "grid_template_columns": null,
      "grid_template_rows": null,
      "height": null,
      "justify_content": null,
      "justify_items": null,
      "left": null,
      "margin": null,
      "max_height": null,
      "max_width": null,
      "min_height": null,
      "min_width": null,
      "object_fit": null,
      "object_position": null,
      "order": null,
      "overflow": null,
      "overflow_x": null,
      "overflow_y": null,
      "padding": null,
      "right": null,
      "top": null,
      "visibility": null,
      "width": null
     }
    },
    "858a2f239b8b4e0690e07dae98dd6f54": {
     "model_module": "@jupyter-widgets/base",
     "model_name": "LayoutModel",
     "state": {
      "_model_module": "@jupyter-widgets/base",
      "_model_module_version": "1.2.0",
      "_model_name": "LayoutModel",
      "_view_count": null,
      "_view_module": "@jupyter-widgets/base",
      "_view_module_version": "1.2.0",
      "_view_name": "LayoutView",
      "align_content": null,
      "align_items": null,
      "align_self": null,
      "border": null,
      "bottom": null,
      "display": null,
      "flex": null,
      "flex_flow": null,
      "grid_area": null,
      "grid_auto_columns": null,
      "grid_auto_flow": null,
      "grid_auto_rows": null,
      "grid_column": null,
      "grid_gap": null,
      "grid_row": null,
      "grid_template_areas": null,
      "grid_template_columns": null,
      "grid_template_rows": null,
      "height": null,
      "justify_content": null,
      "justify_items": null,
      "left": null,
      "margin": null,
      "max_height": null,
      "max_width": null,
      "min_height": null,
      "min_width": null,
      "object_fit": null,
      "object_position": null,
      "order": null,
      "overflow": null,
      "overflow_x": null,
      "overflow_y": null,
      "padding": null,
      "right": null,
      "top": null,
      "visibility": null,
      "width": null
     }
    },
    "89e38fd9dac242fb966a09f2710173a4": {
     "model_module": "@jupyter-widgets/base",
     "model_name": "LayoutModel",
     "state": {
      "_model_module": "@jupyter-widgets/base",
      "_model_module_version": "1.2.0",
      "_model_name": "LayoutModel",
      "_view_count": null,
      "_view_module": "@jupyter-widgets/base",
      "_view_module_version": "1.2.0",
      "_view_name": "LayoutView",
      "align_content": null,
      "align_items": null,
      "align_self": null,
      "border": null,
      "bottom": null,
      "display": null,
      "flex": null,
      "flex_flow": null,
      "grid_area": null,
      "grid_auto_columns": null,
      "grid_auto_flow": null,
      "grid_auto_rows": null,
      "grid_column": null,
      "grid_gap": null,
      "grid_row": null,
      "grid_template_areas": null,
      "grid_template_columns": null,
      "grid_template_rows": null,
      "height": null,
      "justify_content": null,
      "justify_items": null,
      "left": null,
      "margin": null,
      "max_height": null,
      "max_width": null,
      "min_height": null,
      "min_width": null,
      "object_fit": null,
      "object_position": null,
      "order": null,
      "overflow": null,
      "overflow_x": null,
      "overflow_y": null,
      "padding": null,
      "right": null,
      "top": null,
      "visibility": null,
      "width": null
     }
    },
    "93c0450389424a5d8f3fcba472c1be4b": {
     "model_module": "@jupyter-widgets/controls",
     "model_name": "ProgressStyleModel",
     "state": {
      "_model_module": "@jupyter-widgets/controls",
      "_model_module_version": "1.5.0",
      "_model_name": "ProgressStyleModel",
      "_view_count": null,
      "_view_module": "@jupyter-widgets/base",
      "_view_module_version": "1.2.0",
      "_view_name": "StyleView",
      "bar_color": null,
      "description_width": "initial"
     }
    },
    "a330c45e8a3e4012ba6ca9cfaf6be50e": {
     "model_module": "@jupyter-widgets/controls",
     "model_name": "FloatProgressModel",
     "state": {
      "_dom_classes": [],
      "_model_module": "@jupyter-widgets/controls",
      "_model_module_version": "1.5.0",
      "_model_name": "FloatProgressModel",
      "_view_count": null,
      "_view_module": "@jupyter-widgets/controls",
      "_view_module_version": "1.5.0",
      "_view_name": "ProgressView",
      "bar_style": "",
      "description": "channel: 100%",
      "description_tooltip": null,
      "layout": "IPY_MODEL_0bf9b6ce256a44c5be33090249e6d50f",
      "max": 63,
      "min": 0,
      "orientation": "horizontal",
      "style": "IPY_MODEL_b9312632a11342b1b7951c33730627c3",
      "value": 63
     }
    },
    "a8e3005227f24e0cbe4a001c7fb8e63b": {
     "model_module": "@jupyter-widgets/base",
     "model_name": "LayoutModel",
     "state": {
      "_model_module": "@jupyter-widgets/base",
      "_model_module_version": "1.2.0",
      "_model_name": "LayoutModel",
      "_view_count": null,
      "_view_module": "@jupyter-widgets/base",
      "_view_module_version": "1.2.0",
      "_view_name": "LayoutView",
      "align_content": null,
      "align_items": null,
      "align_self": null,
      "border": null,
      "bottom": null,
      "display": null,
      "flex": null,
      "flex_flow": null,
      "grid_area": null,
      "grid_auto_columns": null,
      "grid_auto_flow": null,
      "grid_auto_rows": null,
      "grid_column": null,
      "grid_gap": null,
      "grid_row": null,
      "grid_template_areas": null,
      "grid_template_columns": null,
      "grid_template_rows": null,
      "height": null,
      "justify_content": null,
      "justify_items": null,
      "left": null,
      "margin": null,
      "max_height": null,
      "max_width": null,
      "min_height": null,
      "min_width": null,
      "object_fit": null,
      "object_position": null,
      "order": null,
      "overflow": null,
      "overflow_x": null,
      "overflow_y": null,
      "padding": null,
      "right": null,
      "top": null,
      "visibility": null,
      "width": null
     }
    },
    "acbd6687fc3f4cd0a2e44f95d0556482": {
     "model_module": "@jupyter-widgets/controls",
     "model_name": "FloatProgressModel",
     "state": {
      "_dom_classes": [],
      "_model_module": "@jupyter-widgets/controls",
      "_model_module_version": "1.5.0",
      "_model_name": "FloatProgressModel",
      "_view_count": null,
      "_view_module": "@jupyter-widgets/controls",
      "_view_module_version": "1.5.0",
      "_view_name": "ProgressView",
      "bar_style": "",
      "description": "channel: 100%",
      "description_tooltip": null,
      "layout": "IPY_MODEL_a8e3005227f24e0cbe4a001c7fb8e63b",
      "max": 63,
      "min": 0,
      "orientation": "horizontal",
      "style": "IPY_MODEL_e405bb4503ca43bc864086cbbf5ec856",
      "value": 63
     }
    },
    "b0db686cb33a445980d31996dddaca6d": {
     "model_module": "@jupyter-widgets/controls",
     "model_name": "HTMLModel",
     "state": {
      "_dom_classes": [],
      "_model_module": "@jupyter-widgets/controls",
      "_model_module_version": "1.5.0",
      "_model_name": "HTMLModel",
      "_view_count": null,
      "_view_module": "@jupyter-widgets/controls",
      "_view_module_version": "1.5.0",
      "_view_name": "HTMLView",
      "description": "",
      "description_tooltip": null,
      "layout": "IPY_MODEL_e30490e3c9ae4e78aec8090cbfd659e9",
      "placeholder": "​",
      "style": "IPY_MODEL_0f239d3e0359482d920b13ddec825bb6",
      "value": " 63/63 [00:13&lt;00:00,  4.25it/s]"
     }
    },
    "b9312632a11342b1b7951c33730627c3": {
     "model_module": "@jupyter-widgets/controls",
     "model_name": "ProgressStyleModel",
     "state": {
      "_model_module": "@jupyter-widgets/controls",
      "_model_module_version": "1.5.0",
      "_model_name": "ProgressStyleModel",
      "_view_count": null,
      "_view_module": "@jupyter-widgets/base",
      "_view_module_version": "1.2.0",
      "_view_name": "StyleView",
      "bar_color": null,
      "description_width": "initial"
     }
    },
    "df12a8c64500445b8cbe5ab50e9a4086": {
     "model_module": "@jupyter-widgets/base",
     "model_name": "LayoutModel",
     "state": {
      "_model_module": "@jupyter-widgets/base",
      "_model_module_version": "1.2.0",
      "_model_name": "LayoutModel",
      "_view_count": null,
      "_view_module": "@jupyter-widgets/base",
      "_view_module_version": "1.2.0",
      "_view_name": "LayoutView",
      "align_content": null,
      "align_items": null,
      "align_self": null,
      "border": null,
      "bottom": null,
      "display": null,
      "flex": null,
      "flex_flow": null,
      "grid_area": null,
      "grid_auto_columns": null,
      "grid_auto_flow": null,
      "grid_auto_rows": null,
      "grid_column": null,
      "grid_gap": null,
      "grid_row": null,
      "grid_template_areas": null,
      "grid_template_columns": null,
      "grid_template_rows": null,
      "height": null,
      "justify_content": null,
      "justify_items": null,
      "left": null,
      "margin": null,
      "max_height": null,
      "max_width": null,
      "min_height": null,
      "min_width": null,
      "object_fit": null,
      "object_position": null,
      "order": null,
      "overflow": null,
      "overflow_x": null,
      "overflow_y": null,
      "padding": null,
      "right": null,
      "top": null,
      "visibility": null,
      "width": null
     }
    },
    "e30490e3c9ae4e78aec8090cbfd659e9": {
     "model_module": "@jupyter-widgets/base",
     "model_name": "LayoutModel",
     "state": {
      "_model_module": "@jupyter-widgets/base",
      "_model_module_version": "1.2.0",
      "_model_name": "LayoutModel",
      "_view_count": null,
      "_view_module": "@jupyter-widgets/base",
      "_view_module_version": "1.2.0",
      "_view_name": "LayoutView",
      "align_content": null,
      "align_items": null,
      "align_self": null,
      "border": null,
      "bottom": null,
      "display": null,
      "flex": null,
      "flex_flow": null,
      "grid_area": null,
      "grid_auto_columns": null,
      "grid_auto_flow": null,
      "grid_auto_rows": null,
      "grid_column": null,
      "grid_gap": null,
      "grid_row": null,
      "grid_template_areas": null,
      "grid_template_columns": null,
      "grid_template_rows": null,
      "height": null,
      "justify_content": null,
      "justify_items": null,
      "left": null,
      "margin": null,
      "max_height": null,
      "max_width": null,
      "min_height": null,
      "min_width": null,
      "object_fit": null,
      "object_position": null,
      "order": null,
      "overflow": null,
      "overflow_x": null,
      "overflow_y": null,
      "padding": null,
      "right": null,
      "top": null,
      "visibility": null,
      "width": null
     }
    },
    "e405bb4503ca43bc864086cbbf5ec856": {
     "model_module": "@jupyter-widgets/controls",
     "model_name": "ProgressStyleModel",
     "state": {
      "_model_module": "@jupyter-widgets/controls",
      "_model_module_version": "1.5.0",
      "_model_name": "ProgressStyleModel",
      "_view_count": null,
      "_view_module": "@jupyter-widgets/base",
      "_view_module_version": "1.2.0",
      "_view_name": "StyleView",
      "bar_color": null,
      "description_width": "initial"
     }
    },
    "f5b84d9c1fdb4d668ec0b8266c407e99": {
     "model_module": "@jupyter-widgets/controls",
     "model_name": "ProgressStyleModel",
     "state": {
      "_model_module": "@jupyter-widgets/controls",
      "_model_module_version": "1.5.0",
      "_model_name": "ProgressStyleModel",
      "_view_count": null,
      "_view_module": "@jupyter-widgets/base",
      "_view_module_version": "1.2.0",
      "_view_name": "StyleView",
      "bar_color": null,
      "description_width": "initial"
     }
    },
    "f8eeb41404114c9d881f3a389d799a9b": {
     "model_module": "@jupyter-widgets/base",
     "model_name": "LayoutModel",
     "state": {
      "_model_module": "@jupyter-widgets/base",
      "_model_module_version": "1.2.0",
      "_model_name": "LayoutModel",
      "_view_count": null,
      "_view_module": "@jupyter-widgets/base",
      "_view_module_version": "1.2.0",
      "_view_name": "LayoutView",
      "align_content": null,
      "align_items": null,
      "align_self": null,
      "border": null,
      "bottom": null,
      "display": null,
      "flex": null,
      "flex_flow": null,
      "grid_area": null,
      "grid_auto_columns": null,
      "grid_auto_flow": null,
      "grid_auto_rows": null,
      "grid_column": null,
      "grid_gap": null,
      "grid_row": null,
      "grid_template_areas": null,
      "grid_template_columns": null,
      "grid_template_rows": null,
      "height": null,
      "justify_content": null,
      "justify_items": null,
      "left": null,
      "margin": null,
      "max_height": null,
      "max_width": null,
      "min_height": null,
      "min_width": null,
      "object_fit": null,
      "object_position": null,
      "order": null,
      "overflow": null,
      "overflow_x": null,
      "overflow_y": null,
      "padding": null,
      "right": null,
      "top": null,
      "visibility": null,
      "width": null
     }
    },
    "ffba16c913c74705a77ec350bc368ef5": {
     "model_module": "@jupyter-widgets/base",
     "model_name": "LayoutModel",
     "state": {
      "_model_module": "@jupyter-widgets/base",
      "_model_module_version": "1.2.0",
      "_model_name": "LayoutModel",
      "_view_count": null,
      "_view_module": "@jupyter-widgets/base",
      "_view_module_version": "1.2.0",
      "_view_name": "LayoutView",
      "align_content": null,
      "align_items": null,
      "align_self": null,
      "border": null,
      "bottom": null,
      "display": null,
      "flex": null,
      "flex_flow": null,
      "grid_area": null,
      "grid_auto_columns": null,
      "grid_auto_flow": null,
      "grid_auto_rows": null,
      "grid_column": null,
      "grid_gap": null,
      "grid_row": null,
      "grid_template_areas": null,
      "grid_template_columns": null,
      "grid_template_rows": null,
      "height": null,
      "justify_content": null,
      "justify_items": null,
      "left": null,
      "margin": null,
      "max_height": null,
      "max_width": null,
      "min_height": null,
      "min_width": null,
      "object_fit": null,
      "object_position": null,
      "order": null,
      "overflow": null,
      "overflow_x": null,
      "overflow_y": null,
      "padding": null,
      "right": null,
      "top": null,
      "visibility": null,
      "width": null
     }
    }
   }
  }
 },
 "nbformat": 4,
 "nbformat_minor": 1
}
