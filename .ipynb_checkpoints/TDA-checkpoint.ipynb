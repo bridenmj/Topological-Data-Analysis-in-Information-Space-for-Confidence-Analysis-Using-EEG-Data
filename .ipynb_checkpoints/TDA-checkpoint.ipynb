{
 "cells": [
  {
   "cell_type": "code",
   "execution_count": null,
   "metadata": {
    "colab": {
     "base_uri": "https://localhost:8080/"
    },
    "id": "V41nghC5m3sJ",
    "outputId": "60da9a8d-b14b-4ed5-cf85-0ae8f0d01cc6"
   },
   "outputs": [
    {
     "name": "stdout",
     "output_type": "stream",
     "text": [
      "Requirement already satisfied: ripser in /usr/local/lib/python3.6/dist-packages (0.6.0)\n",
      "Requirement already satisfied: persim in /usr/local/lib/python3.6/dist-packages (from ripser) (0.1.3)\n",
      "Requirement already satisfied: scikit-learn in /usr/local/lib/python3.6/dist-packages (from ripser) (0.22.2.post1)\n",
      "Requirement already satisfied: Cython in /usr/local/lib/python3.6/dist-packages (from ripser) (0.29.21)\n",
      "Requirement already satisfied: numpy in /usr/local/lib/python3.6/dist-packages (from ripser) (1.18.5)\n",
      "Requirement already satisfied: scipy in /usr/local/lib/python3.6/dist-packages (from ripser) (1.4.1)\n",
      "Requirement already satisfied: matplotlib in /usr/local/lib/python3.6/dist-packages (from persim->ripser) (3.2.2)\n",
      "Requirement already satisfied: hopcroftkarp in /usr/local/lib/python3.6/dist-packages (from persim->ripser) (1.2.5)\n",
      "Requirement already satisfied: joblib>=0.11 in /usr/local/lib/python3.6/dist-packages (from scikit-learn->ripser) (0.17.0)\n",
      "Requirement already satisfied: kiwisolver>=1.0.1 in /usr/local/lib/python3.6/dist-packages (from matplotlib->persim->ripser) (1.3.1)\n",
      "Requirement already satisfied: cycler>=0.10 in /usr/local/lib/python3.6/dist-packages (from matplotlib->persim->ripser) (0.10.0)\n",
      "Requirement already satisfied: pyparsing!=2.0.4,!=2.1.2,!=2.1.6,>=2.0.1 in /usr/local/lib/python3.6/dist-packages (from matplotlib->persim->ripser) (2.4.7)\n",
      "Requirement already satisfied: python-dateutil>=2.1 in /usr/local/lib/python3.6/dist-packages (from matplotlib->persim->ripser) (2.8.1)\n",
      "Requirement already satisfied: six in /usr/local/lib/python3.6/dist-packages (from cycler>=0.10->matplotlib->persim->ripser) (1.15.0)\n",
      "Requirement already satisfied: pandas in /usr/local/lib/python3.6/dist-packages (1.1.4)\n",
      "Requirement already satisfied: python-dateutil>=2.7.3 in /usr/local/lib/python3.6/dist-packages (from pandas) (2.8.1)\n",
      "Requirement already satisfied: pytz>=2017.2 in /usr/local/lib/python3.6/dist-packages (from pandas) (2018.9)\n",
      "Requirement already satisfied: numpy>=1.15.4 in /usr/local/lib/python3.6/dist-packages (from pandas) (1.18.5)\n",
      "Requirement already satisfied: six>=1.5 in /usr/local/lib/python3.6/dist-packages (from python-dateutil>=2.7.3->pandas) (1.15.0)\n",
      "Requirement already satisfied: matplotlib in /usr/local/lib/python3.6/dist-packages (3.2.2)\n",
      "Requirement already satisfied: python-dateutil>=2.1 in /usr/local/lib/python3.6/dist-packages (from matplotlib) (2.8.1)\n",
      "Requirement already satisfied: cycler>=0.10 in /usr/local/lib/python3.6/dist-packages (from matplotlib) (0.10.0)\n",
      "Requirement already satisfied: kiwisolver>=1.0.1 in /usr/local/lib/python3.6/dist-packages (from matplotlib) (1.3.1)\n",
      "Requirement already satisfied: pyparsing!=2.0.4,!=2.1.2,!=2.1.6,>=2.0.1 in /usr/local/lib/python3.6/dist-packages (from matplotlib) (2.4.7)\n",
      "Requirement already satisfied: numpy>=1.11 in /usr/local/lib/python3.6/dist-packages (from matplotlib) (1.18.5)\n",
      "Requirement already satisfied: six>=1.5 in /usr/local/lib/python3.6/dist-packages (from python-dateutil>=2.1->matplotlib) (1.15.0)\n",
      "Requirement already satisfied: hdf5storage in /usr/local/lib/python3.6/dist-packages (0.1.15)\n",
      "Requirement already satisfied: h5py>=2.1; python_version >= \"3.3\" in /usr/local/lib/python3.6/dist-packages (from hdf5storage) (2.10.0)\n",
      "Requirement already satisfied: numpy; python_version >= \"3.4\" in /usr/local/lib/python3.6/dist-packages (from hdf5storage) (1.18.5)\n",
      "Requirement already satisfied: six in /usr/local/lib/python3.6/dist-packages (from h5py>=2.1; python_version >= \"3.3\"->hdf5storage) (1.15.0)\n",
      "Requirement already satisfied: h5py in /usr/local/lib/python3.6/dist-packages (2.10.0)\n",
      "Requirement already satisfied: numpy>=1.7 in /usr/local/lib/python3.6/dist-packages (from h5py) (1.18.5)\n",
      "Requirement already satisfied: six in /usr/local/lib/python3.6/dist-packages (from h5py) (1.15.0)\n",
      "Requirement already satisfied: scipy in /usr/local/lib/python3.6/dist-packages (1.4.1)\n",
      "Requirement already satisfied: numpy>=1.13.3 in /usr/local/lib/python3.6/dist-packages (from scipy) (1.18.5)\n"
     ]
    }
   ],
   "source": [
    "!pip install ripser\n",
    "!pip install pandas\n",
    "!pip install matplotlib\n",
    "!pip install hdf5storage\n",
    "!pip install h5py\n",
    "!pip install scipy"
   ]
  },
  {
   "cell_type": "code",
   "execution_count": null,
   "metadata": {
    "id": "3lLRyUaCmaSD"
   },
   "outputs": [],
   "source": [
    "from tqdm.notebook import trange, tqdm\n",
    "import numpy as np\n",
    "from scipy.spatial.distance import jensenshannon\n",
    "from math import inf\n",
    "%matplotlib inline\n",
    "import matplotlib.pyplot as plt\n",
    "from mpl_toolkits.mplot3d import Axes3D\n",
    "from ripser import ripser\n",
    "from persim import plot_diagrams\n",
    "from persim import wasserstein\n",
    "import time\n",
    "from scipy.stats import f_oneway, ttest_1samp\n",
    "import itertools\n",
    "from copy import deepcopy"
   ]
  },
  {
   "cell_type": "markdown",
   "metadata": {
    "id": "X5xF0OkAx8x5"
   },
   "source": [
    "# Create one diagram"
   ]
  },
  {
   "cell_type": "code",
   "execution_count": null,
   "metadata": {
    "id": "_M3i33uZQrkL"
   },
   "outputs": [],
   "source": [
    "low_dir = '~/low_conf_33_kmax=40.npy'\n",
    "hi_dir = '~/hi_conf_33_kmax=40.npy'"
   ]
  },
  {
   "cell_type": "code",
   "execution_count": null,
   "metadata": {
    "id": "-Ifn6AwAQwjS"
   },
   "outputs": [],
   "source": [
    "data_low = np.load(low_dir,allow_pickle=True)\n",
    "data_high = np.load(hi_dir,allow_pickle=True)"
   ]
  },
  {
   "cell_type": "code",
   "execution_count": null,
   "metadata": {
    "colab": {
     "base_uri": "https://localhost:8080/"
    },
    "id": "BL14J0JoQ5rr",
    "outputId": "c24e59fc-7962-42a2-c4d0-d83952a567de"
   },
   "outputs": [
    {
     "name": "stdout",
     "output_type": "stream",
     "text": [
      "-------------------------------------------------\n",
      "Low Confidence Data...\n",
      "(33, 63, 40)\n",
      "[[0.     0.0005 0.2495 ... 0.     0.     0.    ]\n",
      " [0.     0.0005 0.243  ... 0.     0.     0.    ]\n",
      " [0.     0.0005 0.2235 ... 0.     0.     0.    ]\n",
      " ...\n",
      " [0.     0.     0.248  ... 0.     0.     0.    ]\n",
      " [0.     0.0005 0.2385 ... 0.     0.     0.    ]\n",
      " [0.     0.     0.2475 ... 0.     0.     0.    ]]\n",
      "-------------------------------------------------\n",
      "High Confidence Data...\n",
      "(33, 63, 40)\n",
      "[[0.     0.0005 0.253  ... 0.     0.     0.    ]\n",
      " [0.     0.     0.2455 ... 0.     0.     0.    ]\n",
      " [0.     0.001  0.222  ... 0.     0.     0.    ]\n",
      " ...\n",
      " [0.     0.001  0.2525 ... 0.     0.     0.    ]\n",
      " [0.     0.0005 0.2255 ... 0.     0.     0.    ]\n",
      " [0.     0.0005 0.244  ... 0.     0.     0.    ]]\n",
      "-------------------------------------------------\n"
     ]
    }
   ],
   "source": [
    "# Sanity Check\n",
    "print(\"-\"*49)\n",
    "print(\"Low Confidence Data...\")\n",
    "print(data_low.shape)\n",
    "print(data_low[12])\n",
    "print(\"-\"*49)\n",
    "print(\"High Confidence Data...\")\n",
    "print(data_high.shape)\n",
    "print(data_high[12])\n",
    "print(\"-\"*49)"
   ]
  },
  {
   "cell_type": "code",
   "execution_count": null,
   "metadata": {
    "colab": {
     "base_uri": "https://localhost:8080/",
     "height": 426
    },
    "id": "szD7WXl5RBJ7",
    "outputId": "ff1071de-d82c-4567-fc76-47ffbaf2dace"
   },
   "outputs": [
    {
     "data": {
      "image/png": "[encoded data removed]",
      "text/plain": [
       "<Figure size 900x400 with 2 Axes>"
      ]
     },
     "metadata": {
      "tags": []
     },
     "output_type": "display_data"
    },
    {
     "name": "stdout",
     "output_type": "stream",
     "text": [
      "0.03285157678294324\n"
     ]
    }
   ],
   "source": [
    "X_high = data_high[24]\n",
    "X_low = data_low[24]\n",
    "\n",
    "# Compute the persistence diagram of this point cloud\n",
    "dgms_high = ripser(X_high, metric = jensenshannon, coeff=10)['dgms']\n",
    "dgms_low = ripser(X_low, metric = jensenshannon, coeff=10)['dgms']\n",
    "\n",
    "plt.figure(figsize=(9, 4))\n",
    "plt.subplot(121)\n",
    "plot_diagrams(dgms_low)\n",
    "#plt.scatter(X[:, 0], X[:, 1])\n",
    "#plt.axis('equal')\n",
    "plt.title(\"Low Confidence\")\n",
    "plt.subplot(122)\n",
    "plt.title(\"High Confidence\")\n",
    "plot_diagrams(dgms_high)\n",
    "plt.show()\n",
    "print(wasserstein(dgms_high[1], dgms_low[1]))"
   ]
  },
  {
   "cell_type": "code",
   "execution_count": null,
   "metadata": {
    "colab": {
     "base_uri": "https://localhost:8080/"
    },
    "id": "ShfL0OK9wpKA",
    "outputId": "a3cf85f5-e1e3-4d7a-e4c8-0c273d1c9993"
   },
   "outputs": [
    {
     "data": {
      "text/plain": [
       "array([[0.0470948 , 0.05077226],\n",
       "       [0.04477371, 0.0467119 ],\n",
       "       [0.04383344, 0.04495035],\n",
       "       [0.04262457, 0.04621539],\n",
       "       [0.04083732, 0.04358562],\n",
       "       [0.04071473, 0.04258138],\n",
       "       [0.03999177, 0.0420691 ],\n",
       "       [0.03944175, 0.04124416],\n",
       "       [0.03923436, 0.04253309],\n",
       "       [0.03836234, 0.04061937],\n",
       "       [0.03823744, 0.04172654],\n",
       "       [0.03817431, 0.03827959],\n",
       "       [0.03808884, 0.03814194],\n",
       "       [0.037898  , 0.04026932],\n",
       "       [0.03747177, 0.03808817],\n",
       "       [0.03709279, 0.03899926],\n",
       "       [0.03672274, 0.03943486],\n",
       "       [0.03631373, 0.0372441 ],\n",
       "       [0.03620968, 0.03748909],\n",
       "       [0.03588863, 0.03697146],\n",
       "       [0.03558192, 0.0375702 ],\n",
       "       [0.03464112, 0.03558294],\n",
       "       [0.03447869, 0.03647186],\n",
       "       [0.03425705, 0.03881945],\n",
       "       [0.03410292, 0.03673404],\n",
       "       [0.0339657 , 0.03730977],\n",
       "       [0.03396   , 0.03587267],\n",
       "       [0.03393222, 0.03736784],\n",
       "       [0.03380794, 0.03421249],\n",
       "       [0.03366047, 0.0370631 ],\n",
       "       [0.03362716, 0.03775705],\n",
       "       [0.03317591, 0.0384249 ],\n",
       "       [0.03309616, 0.03374013],\n",
       "       [0.03299705, 0.03583332],\n",
       "       [0.03295255, 0.03529851],\n",
       "       [0.03275807, 0.03817795],\n",
       "       [0.03270022, 0.03810213],\n",
       "       [0.03208543, 0.03351531],\n",
       "       [0.03197896, 0.03351531]])"
      ]
     },
     "execution_count": 129,
     "metadata": {
      "tags": []
     },
     "output_type": "execute_result"
    }
   ],
   "source": [
    "dgms[1]"
   ]
  },
  {
   "cell_type": "code",
   "execution_count": null,
   "metadata": {
    "colab": {
     "base_uri": "https://localhost:8080/"
    },
    "id": "W_8274wUrldX",
    "outputId": "1bb4346a-1eb2-4720-b588-86135ea2eb56"
   },
   "outputs": [
    {
     "name": "stdout",
     "output_type": "stream",
     "text": [
      "0.03261893147987033\n"
     ]
    }
   ],
   "source": [
    "num_pts = 63\n",
    "sum = 0\n",
    "for i in range(len(dgms[0])):\n",
    "    if dgms[0][i][1] != inf:\n",
    "        sum += dgms[0][i][1]\n",
    "print(sum/num_pts)"
   ]
  },
  {
   "cell_type": "code",
   "execution_count": null,
   "metadata": {
    "colab": {
     "base_uri": "https://localhost:8080/"
    },
    "id": "iVYWI7DprVsg",
    "outputId": "eb8d097d-0994-4b46-ce7c-700ef48acf83"
   },
   "outputs": [
    {
     "name": "stdout",
     "output_type": "stream",
     "text": [
      "0.029823457378716695\n"
     ]
    }
   ],
   "source": [
    "num_pts = 63\n",
    "sum = 0\n",
    "for i in range(len(dgms[0])):\n",
    "    if dgms[0][i][1] != inf:\n",
    "        sum += dgms[0][i][1]\n",
    "print(sum/num_pts)"
   ]
  },
  {
   "cell_type": "markdown",
   "metadata": {
    "id": "ejXMgL7vUZHJ"
   },
   "source": [
    "# Create Diagrams for datasets"
   ]
  },
  {
   "cell_type": "code",
   "execution_count": null,
   "metadata": {
    "colab": {
     "base_uri": "https://localhost:8080/",
     "height": 17,
     "referenced_widgets": [
      "fdcacdc086774412ab47f8e5299fcb98",
      "4d9566de8a0840748033b3824b6e569d",
      "fc9283e61a3846a8b16fcbf2fc9ec317",
      "4953b1f355c74d2db95275852333f080",
      "f8e61f1cdb61429a8dbd2aacd121ac83",
      "6d1919571fc142d48c627d3db809e3a0",
      "c6f139649f7f4e8da5dae4a268a849f3",
      "2dd69060c55a485287ff0f993ea30dd5"
     ]
    },
    "id": "RXIhD-GkpsoU",
    "outputId": "eaf8baa4-09b8-4e9b-8c81-376086b44e4d"
   },
   "outputs": [
    {
     "data": {
      "application/vnd.jupyter.widget-view+json": {
       "model_id": "fdcacdc086774412ab47f8e5299fcb98",
       "version_major": 2,
       "version_minor": 0
      },
      "text/plain": [
       "HBox(children=(FloatProgress(value=0.0, description='dgms', max=33.0, style=ProgressStyle(description_width='i…"
      ]
     },
     "metadata": {
      "tags": []
     },
     "output_type": "display_data"
    }
   ],
   "source": [
    "dgms_list_low = []\n",
    "for i in tqdm(range(len(data_low)),desc='dgms', leave = False):\n",
    "    # Compute the persistence diagram of distribution data_low[i,:,:]\n",
    "    dgms = ripser(data_low[i,:,:], metric = jensenshannon, coeff=10)['dgms']\n",
    "    dgms_list_low.append(deepcopy(dgms))"
   ]
  },
  {
   "cell_type": "code",
   "execution_count": null,
   "metadata": {
    "colab": {
     "base_uri": "https://localhost:8080/",
     "height": 17,
     "referenced_widgets": [
      "34839d85379f4b929dd1ed222cc04ff2",
      "1b778bb355ad403aa3234a6f2e35da7a",
      "4cd6406a8a4240499908b7c2b50426cb",
      "8fbfedfdcd11487696ac96b92ed41ac5",
      "91bfa6055263433ab4c19d8abe6181d1",
      "b6fb7a9d5f2e410296629dcd1210ed3e",
      "1114e895ec384daf9d8bbc70405b771a",
      "bee6c22af246485db5c2ea8d8dabc953"
     ]
    },
    "id": "crZEvbH5quRy",
    "outputId": "37a05763-0bab-455e-fa67-37bd6f357488"
   },
   "outputs": [
    {
     "data": {
      "application/vnd.jupyter.widget-view+json": {
       "model_id": "34839d85379f4b929dd1ed222cc04ff2",
       "version_major": 2,
       "version_minor": 0
      },
      "text/plain": [
       "HBox(children=(FloatProgress(value=0.0, description='dgms', max=33.0, style=ProgressStyle(description_width='i…"
      ]
     },
     "metadata": {
      "tags": []
     },
     "output_type": "display_data"
    }
   ],
   "source": [
    "dgms_list_high = []\n",
    "for i in tqdm(range(len(data_high)),desc='dgms', leave = False):\n",
    "    # Compute the persistence diagram of distribution data_high[i,:,:]\n",
    "    dgms = ripser(data_high[i,:,:], metric = jensenshannon, coeff=10)['dgms']\n",
    "    dgms_list_high.append(deepcopy(dgms))"
   ]
  },
  {
   "cell_type": "markdown",
   "metadata": {
    "id": "fsj6x7-pvUnJ"
   },
   "source": [
    "# Calculate average birth and death rates"
   ]
  },
  {
   "cell_type": "markdown",
   "metadata": {
    "id": "FQdpr7IiyC8q"
   },
   "source": [
    "### Death $H_0$"
   ]
  },
  {
   "cell_type": "markdown",
   "metadata": {
    "id": "4AA_kvvlyK0j"
   },
   "source": [
    "### low confidence dgms"
   ]
  },
  {
   "cell_type": "code",
   "execution_count": null,
   "metadata": {
    "colab": {
     "base_uri": "https://localhost:8080/"
    },
    "id": "Yj_WHkUgrJC-",
    "outputId": "3dc4bf43-0def-458d-80d4-17fd167a3f9c"
   },
   "outputs": [
    {
     "name": "stdout",
     "output_type": "stream",
     "text": [
      "low confidence avg death in H_0: 0.03211656534939488\n"
     ]
    }
   ],
   "source": [
    "sum = 0\n",
    "num_pts = 63 * 33\n",
    "b_H0_low_pts = []\n",
    "for dgms in dgms_list_low:\n",
    "    for i in range(len(dgms[0])):\n",
    "        \n",
    "        if dgms[0][i][1] != inf:\n",
    "            b_H0_low_pts.append(dgms[0][i][1])\n",
    "            sum += dgms[0][i][1]\n",
    "print(\"low confidence avg death in H_0:\", sum/num_pts)"
   ]
  },
  {
   "cell_type": "markdown",
   "metadata": {
    "id": "vMnsDdhnyQMO"
   },
   "source": [
    "### high confidence dgms"
   ]
  },
  {
   "cell_type": "code",
   "execution_count": null,
   "metadata": {
    "colab": {
     "base_uri": "https://localhost:8080/"
    },
    "id": "RDS337yhvnbb",
    "outputId": "fc097805-4e12-4ce5-95be-2f08574818f1"
   },
   "outputs": [
    {
     "name": "stdout",
     "output_type": "stream",
     "text": [
      "high confidence avg death in H_0: 0.03168752684449206\n"
     ]
    }
   ],
   "source": [
    "sum = 0\n",
    "num_pts = 63 * 33\n",
    "b_H0_high_pts = []\n",
    "for dgms in dgms_list_high:\n",
    "    for i in range(len(dgms[0])):\n",
    "        if dgms[0][i][1] != inf:\n",
    "            b_H0_high_pts.append(dgms[0][i][1])\n",
    "            sum += dgms[0][i][1]\n",
    "print(\"high confidence avg death in H_0:\", sum/num_pts)"
   ]
  },
  {
   "cell_type": "code",
   "execution_count": null,
   "metadata": {
    "colab": {
     "base_uri": "https://localhost:8080/"
    },
    "id": "-cfRBTAiz-Jg",
    "outputId": "7820bf59-41f5-4d66-8cef-a559b4f5ebfc"
   },
   "outputs": [
    {
     "data": {
      "text/plain": [
       "array([0.   , 0.025, 0.05 , 0.075, 0.1  , 0.125, 0.15 , 0.175, 0.2  ,\n",
       "       0.225, 0.25 , 0.275, 0.3  , 0.325, 0.35 , 0.375, 0.4  , 0.425,\n",
       "       0.45 , 0.475, 0.5  , 0.525, 0.55 , 0.575, 0.6  , 0.625, 0.65 ,\n",
       "       0.675, 0.7  , 0.725, 0.75 , 0.775, 0.8  , 0.825, 0.85 , 0.875,\n",
       "       0.9  , 0.925, 0.95 , 0.975])"
      ]
     },
     "execution_count": 170,
     "metadata": {
      "tags": []
     },
     "output_type": "execute_result"
    }
   ],
   "source": [
    "np.arange(0, 1, 0.025)"
   ]
  },
  {
   "cell_type": "code",
   "execution_count": null,
   "metadata": {
    "colab": {
     "base_uri": "https://localhost:8080/",
     "height": 295
    },
    "id": "ZjcsJieI01rm",
    "outputId": "793f7ab8-c582-4c40-d2aa-9d88b0ad7ed6"
   },
   "outputs": [
    {
     "data": {
      "image/png": "[encoded data removed]",
      "text/plain": [
       "<Figure size 432x288 with 1 Axes>"
      ]
     },
     "metadata": {
      "needs_background": "light",
      "tags": []
     },
     "output_type": "display_data"
    }
   ],
   "source": [
    "# fixed bin size\n",
    "bins = np.arange(0, 0.1, 0.0025) # fixed bin size\n",
    "\n",
    "plt.xlim([min(b_H0_low_pts)-0.005, max(b_H0_high_pts)+0.005])\n",
    "\n",
    "plt.hist(b_H0_low_pts, bins=bins, alpha=0.5)\n",
    "plt.title('Distribution of Low Confidence Death Times in H_0')\n",
    "plt.xlabel('Death Time')\n",
    "plt.ylabel('Count')\n",
    "\n",
    "plt.show()"
   ]
  },
  {
   "cell_type": "code",
   "execution_count": null,
   "metadata": {
    "colab": {
     "base_uri": "https://localhost:8080/",
     "height": 295
    },
    "id": "4y9FKblUzms1",
    "outputId": "b3abba46-d7a2-4d8b-cfc3-cf0cbf003fe4"
   },
   "outputs": [
    {
     "data": {
      "image/png": "[encoded data removed]",
      "text/plain": [
       "<Figure size 432x288 with 1 Axes>"
      ]
     },
     "metadata": {
      "needs_background": "light",
      "tags": []
     },
     "output_type": "display_data"
    }
   ],
   "source": [
    "# fixed bin size\n",
    "bins = np.arange(0, 0.1, 0.0025) # fixed bin size\n",
    "\n",
    "plt.xlim([min(b_H0_high_pts)-0.005, max(b_H0_high_pts)+0.005])\n",
    "\n",
    "plt.hist(b_H0_high_pts, bins=bins, alpha=0.5)\n",
    "plt.title('Distribution of High Confidence Death Times in H_0')\n",
    "plt.xlabel('Death Time')\n",
    "plt.ylabel('Count')\n",
    "\n",
    "plt.show()"
   ]
  },
  {
   "cell_type": "code",
   "execution_count": null,
   "metadata": {
    "colab": {
     "base_uri": "https://localhost:8080/"
    },
    "id": "2kmU1y6z1w6F",
    "outputId": "0f403811-6b40-40cf-9ff1-69a9e3efffb0"
   },
   "outputs": [
    {
     "data": {
      "text/plain": [
       "F_onewayResult(statistic=3.985494535563336, pvalue=0.045959805180713686)"
      ]
     },
     "execution_count": 173,
     "metadata": {
      "tags": []
     },
     "output_type": "execute_result"
    }
   ],
   "source": [
    "f_oneway(b_H0_high_pts,b_H0_low_pts)"
   ]
  },
  {
   "cell_type": "markdown",
   "metadata": {
    "id": "1k1IWUj2yYJ4"
   },
   "source": [
    "### Birth $H_1$"
   ]
  },
  {
   "cell_type": "code",
   "execution_count": null,
   "metadata": {
    "colab": {
     "base_uri": "https://localhost:8080/"
    },
    "id": "VfcfXi9bvu6p",
    "outputId": "7fc8f6fd-614f-47d8-9aad-e23a800b34b9"
   },
   "outputs": [
    {
     "name": "stdout",
     "output_type": "stream",
     "text": [
      "low confidence avg birth in H_1: 0.01862196232935395\n"
     ]
    }
   ],
   "source": [
    "sum = 0\n",
    "num_pts = 63 * 33\n",
    "\n",
    "for dgms in dgms_list_low:\n",
    "    for i in range(len(dgms[1])):\n",
    "        if dgms[1][i][0] != inf:\n",
    "            sum += dgms[1][i][0]\n",
    "print(\"low confidence avg birth in H_1:\", sum/num_pts)"
   ]
  },
  {
   "cell_type": "code",
   "execution_count": null,
   "metadata": {
    "colab": {
     "base_uri": "https://localhost:8080/"
    },
    "id": "qhmIF5DgwffE",
    "outputId": "60486999-5ffb-4e09-d233-92a83b496495"
   },
   "outputs": [
    {
     "name": "stdout",
     "output_type": "stream",
     "text": [
      "high confidence avg death in H_1: 0.020551705842245478\n"
     ]
    }
   ],
   "source": [
    "sum = 0\n",
    "num_pts = 63 * 33\n",
    "for dgms in dgms_list_high:\n",
    "    for i in range(len(dgms[1])):\n",
    "        if dgms[1][i][0] != inf:\n",
    "            sum += dgms[1][i][0]\n",
    "print(\"high confidence avg death in H_1:\", sum/num_pts)"
   ]
  },
  {
   "cell_type": "markdown",
   "metadata": {
    "id": "iVEM6BC1xGMj"
   },
   "source": [
    "### Death $H_1$"
   ]
  },
  {
   "cell_type": "code",
   "execution_count": null,
   "metadata": {
    "colab": {
     "base_uri": "https://localhost:8080/"
    },
    "id": "NLZCcwxgyf1N",
    "outputId": "048ae3f4-b667-408a-d103-8b0586b367db"
   },
   "outputs": [
    {
     "name": "stdout",
     "output_type": "stream",
     "text": [
      "low confidence avg birth in H_1: 0.019605825838380678\n"
     ]
    }
   ],
   "source": [
    "sum = 0\n",
    "num_pts = 63 * 33\n",
    "\n",
    "for dgms in dgms_list_low:\n",
    "    for i in range(len(dgms[1])):\n",
    "        if dgms[1][i][1] != inf:\n",
    "            sum += dgms[1][i][1]\n",
    "print(\"low confidence avg birth in H_1:\", sum/num_pts)"
   ]
  },
  {
   "cell_type": "code",
   "execution_count": null,
   "metadata": {
    "colab": {
     "base_uri": "https://localhost:8080/"
    },
    "id": "_k_7YMDFyf1O",
    "outputId": "98420887-62e5-4a33-e183-b6c028d77569"
   },
   "outputs": [
    {
     "name": "stdout",
     "output_type": "stream",
     "text": [
      "high confidence avg death in H_1: 0.021624567564137855\n"
     ]
    }
   ],
   "source": [
    "sum = 0\n",
    "num_pts = 63 * 33\n",
    "for dgms in dgms_list_high:\n",
    "    for i in range(len(dgms[1])):\n",
    "        if dgms[1][i][1] != inf:\n",
    "            sum += dgms[1][i][1]\n",
    "print(\"high confidence avg death in H_1:\", sum/num_pts)"
   ]
  },
  {
   "cell_type": "code",
   "execution_count": null,
   "metadata": {
    "colab": {
     "base_uri": "https://localhost:8080/",
     "height": 17,
     "referenced_widgets": [
      "51ab7f7777bf40d785baba1c55f3a3b5",
      "61dafac41dd64f7c81dc072aaa8fcc40",
      "0b8d145d7f4f44aaa5d5ba999860cd19",
      "048339d65e8a4e6ba387c54d21b825bc",
      "accabfb06acd4117a0d21b6d75e308ef",
      "07ab95a690474accbc194f2dddc05aa1",
      "34bf855d247b470e8bb0c85d59b6c193",
      "9c3146a5a7eb43a591f5ea311f68fc1a"
     ]
    },
    "id": "ftaf219Pyon_",
    "outputId": "c500ed31-6668-4198-f776-fce807b7d566"
   },
   "outputs": [
    {
     "data": {
      "application/vnd.jupyter.widget-view+json": {
       "model_id": "51ab7f7777bf40d785baba1c55f3a3b5",
       "version_major": 2,
       "version_minor": 0
      },
      "text/plain": [
       "HBox(children=(FloatProgress(value=1.0, bar_style='info', description='dgms', max=1.0, style=ProgressStyle(des…"
      ]
     },
     "metadata": {
      "tags": []
     },
     "output_type": "display_data"
    }
   ],
   "source": [
    "dists = []\n",
    "for r in tqdm(itertools.product(dgms_list_low, dgms_list_high),desc='dgms', leave = False): \n",
    "    dists.append(sliced_wasserstein(r[0][1], r[1][1] ))"
   ]
  },
  {
   "cell_type": "code",
   "execution_count": null,
   "metadata": {
    "colab": {
     "base_uri": "https://localhost:8080/"
    },
    "id": "4KmnLhS94WKC",
    "outputId": "4879cf91-14de-4668-968a-ebf267c3d81d"
   },
   "outputs": [
    {
     "data": {
      "text/plain": [
       "0.04310989380733618"
      ]
     },
     "execution_count": 195,
     "metadata": {
      "tags": []
     },
     "output_type": "execute_result"
    }
   ],
   "source": [
    "max(dists)"
   ]
  },
  {
   "cell_type": "code",
   "execution_count": null,
   "metadata": {
    "colab": {
     "base_uri": "https://localhost:8080/",
     "height": 295
    },
    "id": "0hi0Lk8X7QVV",
    "outputId": "bc5a30d0-82ea-45e2-97a3-1efe4fa7e048"
   },
   "outputs": [
    {
     "data": {
      "image/png": "[encoded data removed]",
      "text/plain": [
       "<Figure size 432x288 with 1 Axes>"
      ]
     },
     "metadata": {
      "needs_background": "light",
      "tags": []
     },
     "output_type": "display_data"
    }
   ],
   "source": [
    "# fixed bin size\n",
    "bins = np.arange(0, 0.1, 0.0025) # fixed bin size\n",
    "\n",
    "plt.xlim([min(dists)-0.005, max(dists)+0.005])\n",
    "\n",
    "plt.hist(dists, bins=bins, alpha=0.5)\n",
    "plt.title('Distribution of Wasserstein Distances in H_1')\n",
    "plt.xlabel('Wasserstein Distance')\n",
    "plt.ylabel('Count')\n",
    "\n",
    "plt.show()"
   ]
  },
  {
   "cell_type": "code",
   "execution_count": null,
   "metadata": {
    "colab": {
     "base_uri": "https://localhost:8080/"
    },
    "id": "kebTNlaQ7us_",
    "outputId": "6330fa47-cf48-47f8-8a91-379d95fd88de"
   },
   "outputs": [
    {
     "data": {
      "text/plain": [
       "0.024150093499291325"
      ]
     },
     "execution_count": 199,
     "metadata": {
      "tags": []
     },
     "output_type": "execute_result"
    }
   ],
   "source": [
    "np.mean(dists)"
   ]
  },
  {
   "cell_type": "code",
   "execution_count": null,
   "metadata": {
    "colab": {
     "base_uri": "https://localhost:8080/"
    },
    "id": "4MWDL7Tr8I9U",
    "outputId": "8bfa14f8-d789-4033-e694-c5e6e1aa5828"
   },
   "outputs": [
    {
     "data": {
      "text/plain": [
       "Ttest_1sampResult(statistic=151.5933372311013, pvalue=0.0)"
      ]
     },
     "execution_count": 202,
     "metadata": {
      "tags": []
     },
     "output_type": "execute_result"
    }
   ],
   "source": [
    "ttest_1samp(dists, popmean=0)"
   ]
  },
  {
   "cell_type": "code",
   "execution_count": null,
   "metadata": {
    "colab": {
     "base_uri": "https://localhost:8080/"
    },
    "id": "VxRcJTRn8WlI",
    "outputId": "2a66a211-dfc3-4c54-cf53-0b8416751c4e"
   },
   "outputs": [
    {
     "data": {
      "text/plain": [
       "0.0052547632071360895"
      ]
     },
     "execution_count": 205,
     "metadata": {
      "tags": []
     },
     "output_type": "execute_result"
    }
   ],
   "source": [
    "np.sqrt(np.var(dists))"
   ]
  },
  {
   "cell_type": "code",
   "execution_count": null,
   "metadata": {
    "id": "fpsrjVvYu0Hi"
   },
   "outputs": [],
   "source": []
  }
 ],
 "metadata": {
  "colab": {
   "collapsed_sections": [],
   "name": "TDA.ipynb",
   "provenance": []
  },
  "kernelspec": {
   "display_name": "Python 3",
   "language": "python",
   "name": "python3"
  },
  "language_info": {
   "codemirror_mode": {
    "name": "ipython",
    "version": 3
   },
   "file_extension": ".py",
   "mimetype": "text/x-python",
   "name": "python",
   "nbconvert_exporter": "python",
   "pygments_lexer": "ipython3",
   "version": "3.8.3"
  },
  "widgets": {
   "application/vnd.jupyter.widget-state+json": {
    "048339d65e8a4e6ba387c54d21b825bc": {
     "model_module": "@jupyter-widgets/controls",
     "model_name": "HTMLModel",
     "state": {
      "_dom_classes": [],
      "_model_module": "@jupyter-widgets/controls",
      "_model_module_version": "1.5.0",
      "_model_name": "HTMLModel",
      "_view_count": null,
      "_view_module": "@jupyter-widgets/controls",
      "_view_module_version": "1.5.0",
      "_view_name": "HTMLView",
      "description": "",
      "description_tooltip": null,
      "layout": "IPY_MODEL_9c3146a5a7eb43a591f5ea311f68fc1a",
      "placeholder": "​",
      "style": "IPY_MODEL_34bf855d247b470e8bb0c85d59b6c193",
      "value": " 1089/? [00:20&lt;00:00, 50.39it/s]"
     }
    },
    "07ab95a690474accbc194f2dddc05aa1": {
     "model_module": "@jupyter-widgets/base",
     "model_name": "LayoutModel",
     "state": {
      "_model_module": "@jupyter-widgets/base",
      "_model_module_version": "1.2.0",
      "_model_name": "LayoutModel",
      "_view_count": null,
      "_view_module": "@jupyter-widgets/base",
      "_view_module_version": "1.2.0",
      "_view_name": "LayoutView",
      "align_content": null,
      "align_items": null,
      "align_self": null,
      "border": null,
      "bottom": null,
      "display": null,
      "flex": null,
      "flex_flow": null,
      "grid_area": null,
      "grid_auto_columns": null,
      "grid_auto_flow": null,
      "grid_auto_rows": null,
      "grid_column": null,
      "grid_gap": null,
      "grid_row": null,
      "grid_template_areas": null,
      "grid_template_columns": null,
      "grid_template_rows": null,
      "height": null,
      "justify_content": null,
      "justify_items": null,
      "left": null,
      "margin": null,
      "max_height": null,
      "max_width": null,
      "min_height": null,
      "min_width": null,
      "object_fit": null,
      "object_position": null,
      "order": null,
      "overflow": null,
      "overflow_x": null,
      "overflow_y": null,
      "padding": null,
      "right": null,
      "top": null,
      "visibility": null,
      "width": null
     }
    },
    "0b8d145d7f4f44aaa5d5ba999860cd19": {
     "model_module": "@jupyter-widgets/controls",
     "model_name": "FloatProgressModel",
     "state": {
      "_dom_classes": [],
      "_model_module": "@jupyter-widgets/controls",
      "_model_module_version": "1.5.0",
      "_model_name": "FloatProgressModel",
      "_view_count": null,
      "_view_module": "@jupyter-widgets/controls",
      "_view_module_version": "1.5.0",
      "_view_name": "ProgressView",
      "bar_style": "info",
      "description": "dgms: ",
      "description_tooltip": null,
      "layout": "IPY_MODEL_07ab95a690474accbc194f2dddc05aa1",
      "max": 1,
      "min": 0,
      "orientation": "horizontal",
      "style": "IPY_MODEL_accabfb06acd4117a0d21b6d75e308ef",
      "value": 1
     }
    },
    "1114e895ec384daf9d8bbc70405b771a": {
     "model_module": "@jupyter-widgets/controls",
     "model_name": "DescriptionStyleModel",
     "state": {
      "_model_module": "@jupyter-widgets/controls",
      "_model_module_version": "1.5.0",
      "_model_name": "DescriptionStyleModel",
      "_view_count": null,
      "_view_module": "@jupyter-widgets/base",
      "_view_module_version": "1.2.0",
      "_view_name": "StyleView",
      "description_width": ""
     }
    },
    "1b778bb355ad403aa3234a6f2e35da7a": {
     "model_module": "@jupyter-widgets/base",
     "model_name": "LayoutModel",
     "state": {
      "_model_module": "@jupyter-widgets/base",
      "_model_module_version": "1.2.0",
      "_model_name": "LayoutModel",
      "_view_count": null,
      "_view_module": "@jupyter-widgets/base",
      "_view_module_version": "1.2.0",
      "_view_name": "LayoutView",
      "align_content": null,
      "align_items": null,
      "align_self": null,
      "border": null,
      "bottom": null,
      "display": null,
      "flex": null,
      "flex_flow": null,
      "grid_area": null,
      "grid_auto_columns": null,
      "grid_auto_flow": null,
      "grid_auto_rows": null,
      "grid_column": null,
      "grid_gap": null,
      "grid_row": null,
      "grid_template_areas": null,
      "grid_template_columns": null,
      "grid_template_rows": null,
      "height": null,
      "justify_content": null,
      "justify_items": null,
      "left": null,
      "margin": null,
      "max_height": null,
      "max_width": null,
      "min_height": null,
      "min_width": null,
      "object_fit": null,
      "object_position": null,
      "order": null,
      "overflow": null,
      "overflow_x": null,
      "overflow_y": null,
      "padding": null,
      "right": null,
      "top": null,
      "visibility": null,
      "width": null
     }
    },
    "2dd69060c55a485287ff0f993ea30dd5": {
     "model_module": "@jupyter-widgets/base",
     "model_name": "LayoutModel",
     "state": {
      "_model_module": "@jupyter-widgets/base",
      "_model_module_version": "1.2.0",
      "_model_name": "LayoutModel",
      "_view_count": null,
      "_view_module": "@jupyter-widgets/base",
      "_view_module_version": "1.2.0",
      "_view_name": "LayoutView",
      "align_content": null,
      "align_items": null,
      "align_self": null,
      "border": null,
      "bottom": null,
      "display": null,
      "flex": null,
      "flex_flow": null,
      "grid_area": null,
      "grid_auto_columns": null,
      "grid_auto_flow": null,
      "grid_auto_rows": null,
      "grid_column": null,
      "grid_gap": null,
      "grid_row": null,
      "grid_template_areas": null,
      "grid_template_columns": null,
      "grid_template_rows": null,
      "height": null,
      "justify_content": null,
      "justify_items": null,
      "left": null,
      "margin": null,
      "max_height": null,
      "max_width": null,
      "min_height": null,
      "min_width": null,
      "object_fit": null,
      "object_position": null,
      "order": null,
      "overflow": null,
      "overflow_x": null,
      "overflow_y": null,
      "padding": null,
      "right": null,
      "top": null,
      "visibility": null,
      "width": null
     }
    },
    "34839d85379f4b929dd1ed222cc04ff2": {
     "model_module": "@jupyter-widgets/controls",
     "model_name": "HBoxModel",
     "state": {
      "_dom_classes": [],
      "_model_module": "@jupyter-widgets/controls",
      "_model_module_version": "1.5.0",
      "_model_name": "HBoxModel",
      "_view_count": null,
      "_view_module": "@jupyter-widgets/controls",
      "_view_module_version": "1.5.0",
      "_view_name": "HBoxView",
      "box_style": "",
      "children": [
       "IPY_MODEL_4cd6406a8a4240499908b7c2b50426cb",
       "IPY_MODEL_8fbfedfdcd11487696ac96b92ed41ac5"
      ],
      "layout": "IPY_MODEL_1b778bb355ad403aa3234a6f2e35da7a"
     }
    },
    "34bf855d247b470e8bb0c85d59b6c193": {
     "model_module": "@jupyter-widgets/controls",
     "model_name": "DescriptionStyleModel",
     "state": {
      "_model_module": "@jupyter-widgets/controls",
      "_model_module_version": "1.5.0",
      "_model_name": "DescriptionStyleModel",
      "_view_count": null,
      "_view_module": "@jupyter-widgets/base",
      "_view_module_version": "1.2.0",
      "_view_name": "StyleView",
      "description_width": ""
     }
    },
    "4953b1f355c74d2db95275852333f080": {
     "model_module": "@jupyter-widgets/controls",
     "model_name": "HTMLModel",
     "state": {
      "_dom_classes": [],
      "_model_module": "@jupyter-widgets/controls",
      "_model_module_version": "1.5.0",
      "_model_name": "HTMLModel",
      "_view_count": null,
      "_view_module": "@jupyter-widgets/controls",
      "_view_module_version": "1.5.0",
      "_view_name": "HTMLView",
      "description": "",
      "description_tooltip": null,
      "layout": "IPY_MODEL_2dd69060c55a485287ff0f993ea30dd5",
      "placeholder": "​",
      "style": "IPY_MODEL_c6f139649f7f4e8da5dae4a268a849f3",
      "value": " 33/33 [00:02&lt;00:00, 14.41it/s]"
     }
    },
    "4cd6406a8a4240499908b7c2b50426cb": {
     "model_module": "@jupyter-widgets/controls",
     "model_name": "FloatProgressModel",
     "state": {
      "_dom_classes": [],
      "_model_module": "@jupyter-widgets/controls",
      "_model_module_version": "1.5.0",
      "_model_name": "FloatProgressModel",
      "_view_count": null,
      "_view_module": "@jupyter-widgets/controls",
      "_view_module_version": "1.5.0",
      "_view_name": "ProgressView",
      "bar_style": "",
      "description": "dgms: 100%",
      "description_tooltip": null,
      "layout": "IPY_MODEL_b6fb7a9d5f2e410296629dcd1210ed3e",
      "max": 33,
      "min": 0,
      "orientation": "horizontal",
      "style": "IPY_MODEL_91bfa6055263433ab4c19d8abe6181d1",
      "value": 33
     }
    },
    "4d9566de8a0840748033b3824b6e569d": {
     "model_module": "@jupyter-widgets/base",
     "model_name": "LayoutModel",
     "state": {
      "_model_module": "@jupyter-widgets/base",
      "_model_module_version": "1.2.0",
      "_model_name": "LayoutModel",
      "_view_count": null,
      "_view_module": "@jupyter-widgets/base",
      "_view_module_version": "1.2.0",
      "_view_name": "LayoutView",
      "align_content": null,
      "align_items": null,
      "align_self": null,
      "border": null,
      "bottom": null,
      "display": null,
      "flex": null,
      "flex_flow": null,
      "grid_area": null,
      "grid_auto_columns": null,
      "grid_auto_flow": null,
      "grid_auto_rows": null,
      "grid_column": null,
      "grid_gap": null,
      "grid_row": null,
      "grid_template_areas": null,
      "grid_template_columns": null,
      "grid_template_rows": null,
      "height": null,
      "justify_content": null,
      "justify_items": null,
      "left": null,
      "margin": null,
      "max_height": null,
      "max_width": null,
      "min_height": null,
      "min_width": null,
      "object_fit": null,
      "object_position": null,
      "order": null,
      "overflow": null,
      "overflow_x": null,
      "overflow_y": null,
      "padding": null,
      "right": null,
      "top": null,
      "visibility": null,
      "width": null
     }
    },
    "51ab7f7777bf40d785baba1c55f3a3b5": {
     "model_module": "@jupyter-widgets/controls",
     "model_name": "HBoxModel",
     "state": {
      "_dom_classes": [],
      "_model_module": "@jupyter-widgets/controls",
      "_model_module_version": "1.5.0",
      "_model_name": "HBoxModel",
      "_view_count": null,
      "_view_module": "@jupyter-widgets/controls",
      "_view_module_version": "1.5.0",
      "_view_name": "HBoxView",
      "box_style": "",
      "children": [
       "IPY_MODEL_0b8d145d7f4f44aaa5d5ba999860cd19",
       "IPY_MODEL_048339d65e8a4e6ba387c54d21b825bc"
      ],
      "layout": "IPY_MODEL_61dafac41dd64f7c81dc072aaa8fcc40"
     }
    },
    "61dafac41dd64f7c81dc072aaa8fcc40": {
     "model_module": "@jupyter-widgets/base",
     "model_name": "LayoutModel",
     "state": {
      "_model_module": "@jupyter-widgets/base",
      "_model_module_version": "1.2.0",
      "_model_name": "LayoutModel",
      "_view_count": null,
      "_view_module": "@jupyter-widgets/base",
      "_view_module_version": "1.2.0",
      "_view_name": "LayoutView",
      "align_content": null,
      "align_items": null,
      "align_self": null,
      "border": null,
      "bottom": null,
      "display": null,
      "flex": null,
      "flex_flow": null,
      "grid_area": null,
      "grid_auto_columns": null,
      "grid_auto_flow": null,
      "grid_auto_rows": null,
      "grid_column": null,
      "grid_gap": null,
      "grid_row": null,
      "grid_template_areas": null,
      "grid_template_columns": null,
      "grid_template_rows": null,
      "height": null,
      "justify_content": null,
      "justify_items": null,
      "left": null,
      "margin": null,
      "max_height": null,
      "max_width": null,
      "min_height": null,
      "min_width": null,
      "object_fit": null,
      "object_position": null,
      "order": null,
      "overflow": null,
      "overflow_x": null,
      "overflow_y": null,
      "padding": null,
      "right": null,
      "top": null,
      "visibility": null,
      "width": null
     }
    },
    "6d1919571fc142d48c627d3db809e3a0": {
     "model_module": "@jupyter-widgets/base",
     "model_name": "LayoutModel",
     "state": {
      "_model_module": "@jupyter-widgets/base",
      "_model_module_version": "1.2.0",
      "_model_name": "LayoutModel",
      "_view_count": null,
      "_view_module": "@jupyter-widgets/base",
      "_view_module_version": "1.2.0",
      "_view_name": "LayoutView",
      "align_content": null,
      "align_items": null,
      "align_self": null,
      "border": null,
      "bottom": null,
      "display": null,
      "flex": null,
      "flex_flow": null,
      "grid_area": null,
      "grid_auto_columns": null,
      "grid_auto_flow": null,
      "grid_auto_rows": null,
      "grid_column": null,
      "grid_gap": null,
      "grid_row": null,
      "grid_template_areas": null,
      "grid_template_columns": null,
      "grid_template_rows": null,
      "height": null,
      "justify_content": null,
      "justify_items": null,
      "left": null,
      "margin": null,
      "max_height": null,
      "max_width": null,
      "min_height": null,
      "min_width": null,
      "object_fit": null,
      "object_position": null,
      "order": null,
      "overflow": null,
      "overflow_x": null,
      "overflow_y": null,
      "padding": null,
      "right": null,
      "top": null,
      "visibility": null,
      "width": null
     }
    },
    "8fbfedfdcd11487696ac96b92ed41ac5": {
     "model_module": "@jupyter-widgets/controls",
     "model_name": "HTMLModel",
     "state": {
      "_dom_classes": [],
      "_model_module": "@jupyter-widgets/controls",
      "_model_module_version": "1.5.0",
      "_model_name": "HTMLModel",
      "_view_count": null,
      "_view_module": "@jupyter-widgets/controls",
      "_view_module_version": "1.5.0",
      "_view_name": "HTMLView",
      "description": "",
      "description_tooltip": null,
      "layout": "IPY_MODEL_bee6c22af246485db5c2ea8d8dabc953",
      "placeholder": "​",
      "style": "IPY_MODEL_1114e895ec384daf9d8bbc70405b771a",
      "value": " 33/33 [00:02&lt;00:00, 13.87it/s]"
     }
    },
    "91bfa6055263433ab4c19d8abe6181d1": {
     "model_module": "@jupyter-widgets/controls",
     "model_name": "ProgressStyleModel",
     "state": {
      "_model_module": "@jupyter-widgets/controls",
      "_model_module_version": "1.5.0",
      "_model_name": "ProgressStyleModel",
      "_view_count": null,
      "_view_module": "@jupyter-widgets/base",
      "_view_module_version": "1.2.0",
      "_view_name": "StyleView",
      "bar_color": null,
      "description_width": "initial"
     }
    },
    "9c3146a5a7eb43a591f5ea311f68fc1a": {
     "model_module": "@jupyter-widgets/base",
     "model_name": "LayoutModel",
     "state": {
      "_model_module": "@jupyter-widgets/base",
      "_model_module_version": "1.2.0",
      "_model_name": "LayoutModel",
      "_view_count": null,
      "_view_module": "@jupyter-widgets/base",
      "_view_module_version": "1.2.0",
      "_view_name": "LayoutView",
      "align_content": null,
      "align_items": null,
      "align_self": null,
      "border": null,
      "bottom": null,
      "display": null,
      "flex": null,
      "flex_flow": null,
      "grid_area": null,
      "grid_auto_columns": null,
      "grid_auto_flow": null,
      "grid_auto_rows": null,
      "grid_column": null,
      "grid_gap": null,
      "grid_row": null,
      "grid_template_areas": null,
      "grid_template_columns": null,
      "grid_template_rows": null,
      "height": null,
      "justify_content": null,
      "justify_items": null,
      "left": null,
      "margin": null,
      "max_height": null,
      "max_width": null,
      "min_height": null,
      "min_width": null,
      "object_fit": null,
      "object_position": null,
      "order": null,
      "overflow": null,
      "overflow_x": null,
      "overflow_y": null,
      "padding": null,
      "right": null,
      "top": null,
      "visibility": null,
      "width": null
     }
    },
    "accabfb06acd4117a0d21b6d75e308ef": {
     "model_module": "@jupyter-widgets/controls",
     "model_name": "ProgressStyleModel",
     "state": {
      "_model_module": "@jupyter-widgets/controls",
      "_model_module_version": "1.5.0",
      "_model_name": "ProgressStyleModel",
      "_view_count": null,
      "_view_module": "@jupyter-widgets/base",
      "_view_module_version": "1.2.0",
      "_view_name": "StyleView",
      "bar_color": null,
      "description_width": "initial"
     }
    },
    "b6fb7a9d5f2e410296629dcd1210ed3e": {
     "model_module": "@jupyter-widgets/base",
     "model_name": "LayoutModel",
     "state": {
      "_model_module": "@jupyter-widgets/base",
      "_model_module_version": "1.2.0",
      "_model_name": "LayoutModel",
      "_view_count": null,
      "_view_module": "@jupyter-widgets/base",
      "_view_module_version": "1.2.0",
      "_view_name": "LayoutView",
      "align_content": null,
      "align_items": null,
      "align_self": null,
      "border": null,
      "bottom": null,
      "display": null,
      "flex": null,
      "flex_flow": null,
      "grid_area": null,
      "grid_auto_columns": null,
      "grid_auto_flow": null,
      "grid_auto_rows": null,
      "grid_column": null,
      "grid_gap": null,
      "grid_row": null,
      "grid_template_areas": null,
      "grid_template_columns": null,
      "grid_template_rows": null,
      "height": null,
      "justify_content": null,
      "justify_items": null,
      "left": null,
      "margin": null,
      "max_height": null,
      "max_width": null,
      "min_height": null,
      "min_width": null,
      "object_fit": null,
      "object_position": null,
      "order": null,
      "overflow": null,
      "overflow_x": null,
      "overflow_y": null,
      "padding": null,
      "right": null,
      "top": null,
      "visibility": null,
      "width": null
     }
    },
    "bee6c22af246485db5c2ea8d8dabc953": {
     "model_module": "@jupyter-widgets/base",
     "model_name": "LayoutModel",
     "state": {
      "_model_module": "@jupyter-widgets/base",
      "_model_module_version": "1.2.0",
      "_model_name": "LayoutModel",
      "_view_count": null,
      "_view_module": "@jupyter-widgets/base",
      "_view_module_version": "1.2.0",
      "_view_name": "LayoutView",
      "align_content": null,
      "align_items": null,
      "align_self": null,
      "border": null,
      "bottom": null,
      "display": null,
      "flex": null,
      "flex_flow": null,
      "grid_area": null,
      "grid_auto_columns": null,
      "grid_auto_flow": null,
      "grid_auto_rows": null,
      "grid_column": null,
      "grid_gap": null,
      "grid_row": null,
      "grid_template_areas": null,
      "grid_template_columns": null,
      "grid_template_rows": null,
      "height": null,
      "justify_content": null,
      "justify_items": null,
      "left": null,
      "margin": null,
      "max_height": null,
      "max_width": null,
      "min_height": null,
      "min_width": null,
      "object_fit": null,
      "object_position": null,
      "order": null,
      "overflow": null,
      "overflow_x": null,
      "overflow_y": null,
      "padding": null,
      "right": null,
      "top": null,
      "visibility": null,
      "width": null
     }
    },
    "c6f139649f7f4e8da5dae4a268a849f3": {
     "model_module": "@jupyter-widgets/controls",
     "model_name": "DescriptionStyleModel",
     "state": {
      "_model_module": "@jupyter-widgets/controls",
      "_model_module_version": "1.5.0",
      "_model_name": "DescriptionStyleModel",
      "_view_count": null,
      "_view_module": "@jupyter-widgets/base",
      "_view_module_version": "1.2.0",
      "_view_name": "StyleView",
      "description_width": ""
     }
    },
    "f8e61f1cdb61429a8dbd2aacd121ac83": {
     "model_module": "@jupyter-widgets/controls",
     "model_name": "ProgressStyleModel",
     "state": {
      "_model_module": "@jupyter-widgets/controls",
      "_model_module_version": "1.5.0",
      "_model_name": "ProgressStyleModel",
      "_view_count": null,
      "_view_module": "@jupyter-widgets/base",
      "_view_module_version": "1.2.0",
      "_view_name": "StyleView",
      "bar_color": null,
      "description_width": "initial"
     }
    },
    "fc9283e61a3846a8b16fcbf2fc9ec317": {
     "model_module": "@jupyter-widgets/controls",
     "model_name": "FloatProgressModel",
     "state": {
      "_dom_classes": [],
      "_model_module": "@jupyter-widgets/controls",
      "_model_module_version": "1.5.0",
      "_model_name": "FloatProgressModel",
      "_view_count": null,
      "_view_module": "@jupyter-widgets/controls",
      "_view_module_version": "1.5.0",
      "_view_name": "ProgressView",
      "bar_style": "",
      "description": "dgms: 100%",
      "description_tooltip": null,
      "layout": "IPY_MODEL_6d1919571fc142d48c627d3db809e3a0",
      "max": 33,
      "min": 0,
      "orientation": "horizontal",
      "style": "IPY_MODEL_f8e61f1cdb61429a8dbd2aacd121ac83",
      "value": 33
     }
    },
    "fdcacdc086774412ab47f8e5299fcb98": {
     "model_module": "@jupyter-widgets/controls",
     "model_name": "HBoxModel",
     "state": {
      "_dom_classes": [],
      "_model_module": "@jupyter-widgets/controls",
      "_model_module_version": "1.5.0",
      "_model_name": "HBoxModel",
      "_view_count": null,
      "_view_module": "@jupyter-widgets/controls",
      "_view_module_version": "1.5.0",
      "_view_name": "HBoxView",
      "box_style": "",
      "children": [
       "IPY_MODEL_fc9283e61a3846a8b16fcbf2fc9ec317",
       "IPY_MODEL_4953b1f355c74d2db95275852333f080"
      ],
      "layout": "IPY_MODEL_4d9566de8a0840748033b3824b6e569d"
     }
    }
   }
  }
 },
 "nbformat": 4,
 "nbformat_minor": 1
}
